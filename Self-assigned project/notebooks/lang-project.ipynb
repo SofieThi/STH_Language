{
 "cells": [
  {
   "cell_type": "markdown",
   "id": "bedf0acc-93c5-46eb-929f-1b6e09535126",
   "metadata": {},
   "source": [
    "## Testing the sentiment-roberta-large-english model on IMDB movie reviews"
   ]
  },
  {
   "cell_type": "code",
   "execution_count": 1,
   "id": "b78755bc-9a65-45fd-a1f1-24a99c515e71",
   "metadata": {
    "execution": {
     "iopub.execute_input": "2022-05-20T19:25:42.926813Z",
     "iopub.status.busy": "2022-05-20T19:25:42.926686Z",
     "iopub.status.idle": "2022-05-20T19:25:45.438862Z",
     "shell.execute_reply": "2022-05-20T19:25:45.437545Z",
     "shell.execute_reply.started": "2022-05-20T19:25:42.926797Z"
    },
    "tags": []
   },
   "outputs": [
    {
     "name": "stderr",
     "output_type": "stream",
     "text": [
      "2022-05-20 21:25:43.531618: W tensorflow/stream_executor/platform/default/dso_loader.cc:64] Could not load dynamic library 'libcudart.so.11.0'; dlerror: libcudart.so.11.0: cannot open shared object file: No such file or directory\n",
      "2022-05-20 21:25:43.531666: I tensorflow/stream_executor/cuda/cudart_stub.cc:29] Ignore above cudart dlerror if you do not have a GPU set up on your machine.\n"
     ]
    }
   ],
   "source": [
    "# data processing tools\n",
    "import os\n",
    "import csv\n",
    "import urllib.request\n",
    "import pandas as pd\n",
    "from tqdm import tqdm\n",
    "\n",
    "# Huggingface tools\n",
    "from transformers import AutoTokenizer\n",
    "from transformers import TFAutoModelForSequenceClassification #sequence classification\n",
    "from transformers import pipeline, set_seed\n",
    "\n",
    "#classification report\n",
    "from sklearn.metrics import (confusion_matrix, \n",
    "                            classification_report)"
   ]
  },
  {
   "cell_type": "code",
   "execution_count": 2,
   "id": "a8d6873b-e111-42a9-9876-0f3edfc3e116",
   "metadata": {
    "execution": {
     "iopub.execute_input": "2022-05-20T19:25:45.440423Z",
     "iopub.status.busy": "2022-05-20T19:25:45.440258Z",
     "iopub.status.idle": "2022-05-20T19:25:45.445124Z",
     "shell.execute_reply": "2022-05-20T19:25:45.444180Z",
     "shell.execute_reply.started": "2022-05-20T19:25:45.440405Z"
    },
    "tags": []
   },
   "outputs": [],
   "source": [
    "#which model do we want to use?\n",
    "MODEL = f\"siebert/sentiment-roberta-large-english\" #URL"
   ]
  },
  {
   "cell_type": "code",
   "execution_count": 3,
   "id": "16cb2876-6d9e-4d4f-a64b-776879f898f6",
   "metadata": {
    "execution": {
     "iopub.execute_input": "2022-05-20T19:25:45.466362Z",
     "iopub.status.busy": "2022-05-20T19:25:45.466239Z",
     "iopub.status.idle": "2022-05-20T19:25:50.989636Z",
     "shell.execute_reply": "2022-05-20T19:25:50.987718Z",
     "shell.execute_reply.started": "2022-05-20T19:25:45.466350Z"
    },
    "tags": []
   },
   "outputs": [],
   "source": [
    "#initalize a pretrained tokenizer (to tokenize the texts)\n",
    "tokenizer = AutoTokenizer.from_pretrained(MODEL)"
   ]
  },
  {
   "cell_type": "code",
   "execution_count": 4,
   "id": "feb1e6aa-2485-48f3-bce0-09c5e8b9faf9",
   "metadata": {
    "execution": {
     "iopub.execute_input": "2022-05-20T19:25:51.007804Z",
     "iopub.status.busy": "2022-05-20T19:25:51.007407Z",
     "iopub.status.idle": "2022-05-20T19:25:55.736153Z",
     "shell.execute_reply": "2022-05-20T19:25:55.734768Z",
     "shell.execute_reply.started": "2022-05-20T19:25:51.007787Z"
    },
    "tags": []
   },
   "outputs": [
    {
     "name": "stderr",
     "output_type": "stream",
     "text": [
      "2022-05-20 21:25:51.618057: E tensorflow/stream_executor/cuda/cuda_driver.cc:271] failed call to cuInit: CUDA_ERROR_NO_DEVICE: no CUDA-capable device is detected\n",
      "2022-05-20 21:25:51.618106: I tensorflow/stream_executor/cuda/cuda_diagnostics.cc:156] kernel driver does not appear to be running on this host (j-72560-job-0): /proc/driver/nvidia/version does not exist\n",
      "2022-05-20 21:25:51.618608: I tensorflow/core/platform/cpu_feature_guard.cc:193] This TensorFlow binary is optimized with oneAPI Deep Neural Network Library (oneDNN) to use the following CPU instructions in performance-critical operations:  AVX2 AVX512F FMA\n",
      "To enable them in other operations, rebuild TensorFlow with the appropriate compiler flags.\n",
      "All model checkpoint layers were used when initializing TFRobertaForSequenceClassification.\n",
      "\n",
      "All the layers of TFRobertaForSequenceClassification were initialized from the model checkpoint at siebert/sentiment-roberta-large-english.\n",
      "If your task is similar to the task the model of the checkpoint was trained on, you can already use TFRobertaForSequenceClassification for predictions without further training.\n"
     ]
    }
   ],
   "source": [
    "#Initialize the model\n",
    "model = TFAutoModelForSequenceClassification.from_pretrained(MODEL) \n",
    "#pytorch = tensorflow is what we use, so we need to use TF at start, see start cell"
   ]
  },
  {
   "cell_type": "code",
   "execution_count": 5,
   "id": "7967b5b5-2134-46e5-90a8-bcbdbc96c3eb",
   "metadata": {
    "execution": {
     "iopub.execute_input": "2022-05-20T19:25:55.740820Z",
     "iopub.status.busy": "2022-05-20T19:25:55.739849Z",
     "iopub.status.idle": "2022-05-20T19:25:56.611654Z",
     "shell.execute_reply": "2022-05-20T19:25:56.610547Z",
     "shell.execute_reply.started": "2022-05-20T19:25:55.740737Z"
    },
    "tags": []
   },
   "outputs": [],
   "source": [
    "#load the data from https://www.kaggle.com/datasets/lakshmi25npathi/imdb-dataset-of-50k-movie-reviews\n",
    "filename = os.path.join(\"..\",\"..\",\"cds-lang\", \"project\", \"IMDB.csv\")\n",
    "data = pd.read_csv(filename)"
   ]
  },
  {
   "cell_type": "code",
   "execution_count": 6,
   "id": "227051f2-3cdd-40ee-9590-471c83761cf3",
   "metadata": {
    "execution": {
     "iopub.execute_input": "2022-05-20T19:25:56.612860Z",
     "iopub.status.busy": "2022-05-20T19:25:56.612607Z",
     "iopub.status.idle": "2022-05-20T19:25:56.619963Z",
     "shell.execute_reply": "2022-05-20T19:25:56.619396Z",
     "shell.execute_reply.started": "2022-05-20T19:25:56.612842Z"
    },
    "tags": []
   },
   "outputs": [
    {
     "name": "stdout",
     "output_type": "stream",
     "text": [
      "                                                  review sentiment\n",
      "0      One of the other reviewers has mentioned that ...  positive\n",
      "1      A wonderful little production. <br /><br />The...  positive\n",
      "2      I thought this was a wonderful way to spend ti...  positive\n",
      "3      Basically there's a family where a little boy ...  negative\n",
      "4      Petter Mattei's \"Love in the Time of Money\" is...  positive\n",
      "...                                                  ...       ...\n",
      "49995  I thought this movie did a down right good job...  positive\n",
      "49996  Bad plot, bad dialogue, bad acting, idiotic di...  negative\n",
      "49997  I am a Catholic taught in parochial elementary...  negative\n",
      "49998  I'm going to have to disagree with the previou...  negative\n",
      "49999  No one expects the Star Trek movies to be high...  negative\n",
      "\n",
      "[50000 rows x 2 columns]\n"
     ]
    }
   ],
   "source": [
    "print(data)"
   ]
  },
  {
   "cell_type": "code",
   "execution_count": 7,
   "id": "9817ec00-eb9f-4c63-ab95-03a52beef80e",
   "metadata": {
    "execution": {
     "iopub.execute_input": "2022-05-20T19:25:56.628130Z",
     "iopub.status.busy": "2022-05-20T19:25:56.627922Z",
     "iopub.status.idle": "2022-05-20T19:25:56.643434Z",
     "shell.execute_reply": "2022-05-20T19:25:56.642628Z",
     "shell.execute_reply.started": "2022-05-20T19:25:56.628115Z"
    },
    "tags": []
   },
   "outputs": [],
   "source": [
    "#converting negative and positive into ones and zeros to match the model\n",
    "data['sentiment'] = data['sentiment'].map({'negative': 0, 'positive': 1})"
   ]
  },
  {
   "cell_type": "code",
   "execution_count": 8,
   "id": "c75010ac-e647-4063-8265-9de654cc7d97",
   "metadata": {
    "execution": {
     "iopub.execute_input": "2022-05-20T19:25:56.644281Z",
     "iopub.status.busy": "2022-05-20T19:25:56.644140Z",
     "iopub.status.idle": "2022-05-20T19:25:56.791338Z",
     "shell.execute_reply": "2022-05-20T19:25:56.789884Z",
     "shell.execute_reply.started": "2022-05-20T19:25:56.644266Z"
    },
    "tags": []
   },
   "outputs": [
    {
     "name": "stdout",
     "output_type": "stream",
     "text": [
      "                                                  review  sentiment\n",
      "0      One of the other reviewers has mentioned that ...          1\n",
      "1      A wonderful little production. <br /><br />The...          1\n",
      "2      I thought this was a wonderful way to spend ti...          1\n",
      "3      Basically there's a family where a little boy ...          0\n",
      "4      Petter Mattei's \"Love in the Time of Money\" is...          1\n",
      "...                                                  ...        ...\n",
      "49995  I thought this movie did a down right good job...          1\n",
      "49996  Bad plot, bad dialogue, bad acting, idiotic di...          0\n",
      "49997  I am a Catholic taught in parochial elementary...          0\n",
      "49998  I'm going to have to disagree with the previou...          0\n",
      "49999  No one expects the Star Trek movies to be high...          0\n",
      "\n",
      "[50000 rows x 2 columns]\n"
     ]
    }
   ],
   "source": [
    "print(data)"
   ]
  },
  {
   "cell_type": "code",
   "execution_count": 10,
   "id": "407efda1-5ddb-4c54-ab02-28605b02056b",
   "metadata": {
    "execution": {
     "iopub.execute_input": "2022-05-20T19:26:02.627797Z",
     "iopub.status.busy": "2022-05-20T19:26:02.627273Z",
     "iopub.status.idle": "2022-05-20T19:26:02.635024Z",
     "shell.execute_reply": "2022-05-20T19:26:02.633458Z",
     "shell.execute_reply.started": "2022-05-20T19:26:02.627747Z"
    },
    "tags": []
   },
   "outputs": [],
   "source": [
    "#making the very large dataset smaller: make a subset of 500 reviews\n",
    "data = data.head(500)"
   ]
  },
  {
   "cell_type": "code",
   "execution_count": 11,
   "id": "2909692f-b147-4a91-acd6-9dd68e9d6a23",
   "metadata": {
    "execution": {
     "iopub.execute_input": "2022-05-20T19:26:03.591160Z",
     "iopub.status.busy": "2022-05-20T19:26:03.590535Z",
     "iopub.status.idle": "2022-05-20T19:26:03.602525Z",
     "shell.execute_reply": "2022-05-20T19:26:03.601673Z",
     "shell.execute_reply.started": "2022-05-20T19:26:03.591103Z"
    },
    "tags": []
   },
   "outputs": [
    {
     "name": "stdout",
     "output_type": "stream",
     "text": [
      "                                                review  sentiment\n",
      "0    One of the other reviewers has mentioned that ...          1\n",
      "1    A wonderful little production. <br /><br />The...          1\n",
      "2    I thought this was a wonderful way to spend ti...          1\n",
      "3    Basically there's a family where a little boy ...          0\n",
      "4    Petter Mattei's \"Love in the Time of Money\" is...          1\n",
      "..                                                 ...        ...\n",
      "495  \"American Nightmare\" is officially tied, in my...          0\n",
      "496  First off, I have to say that I loved the book...          0\n",
      "497  This movie was extremely boring. I only laughe...          0\n",
      "498  I was disgusted by this movie. No it wasn't be...          0\n",
      "499  Such a joyous world has been created for us in...          1\n",
      "\n",
      "[500 rows x 2 columns]\n"
     ]
    }
   ],
   "source": [
    "print(data)"
   ]
  },
  {
   "cell_type": "code",
   "execution_count": 12,
   "id": "64347ca1-b375-462c-ada4-135effd70965",
   "metadata": {
    "execution": {
     "iopub.execute_input": "2022-05-20T19:26:07.263799Z",
     "iopub.status.busy": "2022-05-20T19:26:07.263279Z",
     "iopub.status.idle": "2022-05-20T19:26:17.696766Z",
     "shell.execute_reply": "2022-05-20T19:26:17.676104Z",
     "shell.execute_reply.started": "2022-05-20T19:26:07.263750Z"
    },
    "tags": []
   },
   "outputs": [
    {
     "name": "stderr",
     "output_type": "stream",
     "text": [
      "All model checkpoint layers were used when initializing TFRobertaForSequenceClassification.\n",
      "\n",
      "All the layers of TFRobertaForSequenceClassification were initialized from the model checkpoint at siebert/sentiment-roberta-large-english.\n",
      "If your task is similar to the task the model of the checkpoint was trained on, you can already use TFRobertaForSequenceClassification for predictions without further training.\n"
     ]
    }
   ],
   "source": [
    "#making a pipeline to quickly generate results with default parameters\n",
    "sentiment_analysis = pipeline(\"sentiment-analysis\",model=\"siebert/sentiment-roberta-large-english\")"
   ]
  },
  {
   "cell_type": "code",
   "execution_count": 13,
   "id": "df09e34d-d1fd-42c6-bea1-b6e966249f06",
   "metadata": {
    "execution": {
     "iopub.execute_input": "2022-05-20T19:26:17.705440Z",
     "iopub.status.busy": "2022-05-20T19:26:17.705248Z",
     "iopub.status.idle": "2022-05-20T19:33:58.358933Z",
     "shell.execute_reply": "2022-05-20T19:33:58.358317Z",
     "shell.execute_reply.started": "2022-05-20T19:26:17.705425Z"
    },
    "tags": []
   },
   "outputs": [
    {
     "name": "stderr",
     "output_type": "stream",
     "text": [
      "12it [00:13,  1.05it/s]Token indices sequence length is longer than the specified maximum sequence length for this model (525 > 512). Running this sequence through the model will result in indexing errors\n"
     ]
    },
    {
     "name": "stdout",
     "output_type": "stream",
     "text": [
      "Oops! Review 12 is too long for the model!\n"
     ]
    },
    {
     "name": "stderr",
     "output_type": "stream",
     "text": [
      "26it [00:26,  1.02s/it]"
     ]
    },
    {
     "name": "stdout",
     "output_type": "stream",
     "text": [
      "Oops! Review 26 is too long for the model!\n"
     ]
    },
    {
     "name": "stderr",
     "output_type": "stream",
     "text": [
      "29it [00:28,  1.30it/s]"
     ]
    },
    {
     "name": "stdout",
     "output_type": "stream",
     "text": [
      "Oops! Review 29 is too long for the model!\n",
      "Oops! Review 30 is too long for the model!\n"
     ]
    },
    {
     "name": "stderr",
     "output_type": "stream",
     "text": [
      "33it [00:31,  1.23it/s]"
     ]
    },
    {
     "name": "stdout",
     "output_type": "stream",
     "text": [
      "Oops! Review 33 is too long for the model!\n"
     ]
    },
    {
     "name": "stderr",
     "output_type": "stream",
     "text": [
      "48it [00:47,  1.04it/s]"
     ]
    },
    {
     "name": "stdout",
     "output_type": "stream",
     "text": [
      "Oops! Review 48 is too long for the model!\n"
     ]
    },
    {
     "name": "stderr",
     "output_type": "stream",
     "text": [
      "50it [00:48,  1.41it/s]"
     ]
    },
    {
     "name": "stdout",
     "output_type": "stream",
     "text": [
      "Oops! Review 50 is too long for the model!\n",
      "Oops! Review 51 is too long for the model!\n"
     ]
    },
    {
     "name": "stderr",
     "output_type": "stream",
     "text": [
      "58it [00:54,  1.12it/s]"
     ]
    },
    {
     "name": "stdout",
     "output_type": "stream",
     "text": [
      "Oops! Review 58 is too long for the model!\n",
      "Oops! Review 59 is too long for the model!\n"
     ]
    },
    {
     "name": "stderr",
     "output_type": "stream",
     "text": [
      "77it [01:14,  1.30s/it]"
     ]
    },
    {
     "name": "stdout",
     "output_type": "stream",
     "text": [
      "Oops! Review 77 is too long for the model!\n"
     ]
    },
    {
     "name": "stderr",
     "output_type": "stream",
     "text": [
      "92it [01:30,  1.18s/it]"
     ]
    },
    {
     "name": "stdout",
     "output_type": "stream",
     "text": [
      "Oops! Review 92 is too long for the model!\n"
     ]
    },
    {
     "name": "stderr",
     "output_type": "stream",
     "text": [
      "99it [01:36,  1.01it/s]"
     ]
    },
    {
     "name": "stdout",
     "output_type": "stream",
     "text": [
      "Oops! Review 99 is too long for the model!\n"
     ]
    },
    {
     "name": "stderr",
     "output_type": "stream",
     "text": [
      "101it [01:37,  1.35it/s]"
     ]
    },
    {
     "name": "stdout",
     "output_type": "stream",
     "text": [
      "Oops! Review 101 is too long for the model!\n"
     ]
    },
    {
     "name": "stderr",
     "output_type": "stream",
     "text": [
      "126it [02:02,  1.07it/s]"
     ]
    },
    {
     "name": "stdout",
     "output_type": "stream",
     "text": [
      "Oops! Review 126 is too long for the model!\n"
     ]
    },
    {
     "name": "stderr",
     "output_type": "stream",
     "text": [
      "131it [02:05,  1.17it/s]"
     ]
    },
    {
     "name": "stdout",
     "output_type": "stream",
     "text": [
      "Oops! Review 131 is too long for the model!\n"
     ]
    },
    {
     "name": "stderr",
     "output_type": "stream",
     "text": [
      "140it [02:15,  1.23s/it]"
     ]
    },
    {
     "name": "stdout",
     "output_type": "stream",
     "text": [
      "Oops! Review 140 is too long for the model!\n"
     ]
    },
    {
     "name": "stderr",
     "output_type": "stream",
     "text": [
      "142it [02:16,  1.01it/s]"
     ]
    },
    {
     "name": "stdout",
     "output_type": "stream",
     "text": [
      "Oops! Review 142 is too long for the model!\n"
     ]
    },
    {
     "name": "stderr",
     "output_type": "stream",
     "text": [
      "156it [02:31,  1.00s/it]"
     ]
    },
    {
     "name": "stdout",
     "output_type": "stream",
     "text": [
      "Oops! Review 156 is too long for the model!\n"
     ]
    },
    {
     "name": "stderr",
     "output_type": "stream",
     "text": [
      "163it [02:36,  1.25it/s]"
     ]
    },
    {
     "name": "stdout",
     "output_type": "stream",
     "text": [
      "Oops! Review 163 is too long for the model!\n"
     ]
    },
    {
     "name": "stderr",
     "output_type": "stream",
     "text": [
      "172it [02:45,  1.11s/it]"
     ]
    },
    {
     "name": "stdout",
     "output_type": "stream",
     "text": [
      "Oops! Review 172 is too long for the model!\n"
     ]
    },
    {
     "name": "stderr",
     "output_type": "stream",
     "text": [
      "177it [02:51,  1.24s/it]"
     ]
    },
    {
     "name": "stdout",
     "output_type": "stream",
     "text": [
      "Oops! Review 177 is too long for the model!\n"
     ]
    },
    {
     "name": "stderr",
     "output_type": "stream",
     "text": [
      "182it [02:55,  1.07it/s]"
     ]
    },
    {
     "name": "stdout",
     "output_type": "stream",
     "text": [
      "Oops! Review 182 is too long for the model!\n"
     ]
    },
    {
     "name": "stderr",
     "output_type": "stream",
     "text": [
      "186it [02:59,  1.06it/s]"
     ]
    },
    {
     "name": "stdout",
     "output_type": "stream",
     "text": [
      "Oops! Review 186 is too long for the model!\n"
     ]
    },
    {
     "name": "stderr",
     "output_type": "stream",
     "text": [
      "189it [03:01,  1.26it/s]"
     ]
    },
    {
     "name": "stdout",
     "output_type": "stream",
     "text": [
      "Oops! Review 189 is too long for the model!\n"
     ]
    },
    {
     "name": "stderr",
     "output_type": "stream",
     "text": [
      "191it [03:02,  1.22it/s]"
     ]
    },
    {
     "name": "stdout",
     "output_type": "stream",
     "text": [
      "Oops! Review 191 is too long for the model!\n"
     ]
    },
    {
     "name": "stderr",
     "output_type": "stream",
     "text": [
      "198it [03:08,  1.08it/s]"
     ]
    },
    {
     "name": "stdout",
     "output_type": "stream",
     "text": [
      "Oops! Review 198 is too long for the model!\n"
     ]
    },
    {
     "name": "stderr",
     "output_type": "stream",
     "text": [
      "210it [03:18,  1.24it/s]"
     ]
    },
    {
     "name": "stdout",
     "output_type": "stream",
     "text": [
      "Oops! Review 210 is too long for the model!\n"
     ]
    },
    {
     "name": "stderr",
     "output_type": "stream",
     "text": [
      "218it [03:25,  1.04it/s]"
     ]
    },
    {
     "name": "stdout",
     "output_type": "stream",
     "text": [
      "Oops! Review 218 is too long for the model!\n"
     ]
    },
    {
     "name": "stderr",
     "output_type": "stream",
     "text": [
      "228it [03:35,  1.14s/it]"
     ]
    },
    {
     "name": "stdout",
     "output_type": "stream",
     "text": [
      "Oops! Review 228 is too long for the model!\n"
     ]
    },
    {
     "name": "stderr",
     "output_type": "stream",
     "text": [
      "254it [03:59,  1.31s/it]"
     ]
    },
    {
     "name": "stdout",
     "output_type": "stream",
     "text": [
      "Oops! Review 254 is too long for the model!\n"
     ]
    },
    {
     "name": "stderr",
     "output_type": "stream",
     "text": [
      "257it [04:01,  1.06s/it]"
     ]
    },
    {
     "name": "stdout",
     "output_type": "stream",
     "text": [
      "Oops! Review 257 is too long for the model!\n",
      "Oops! Review 258 is too long for the model!\n"
     ]
    },
    {
     "name": "stderr",
     "output_type": "stream",
     "text": [
      "260it [04:02,  1.39it/s]"
     ]
    },
    {
     "name": "stdout",
     "output_type": "stream",
     "text": [
      "Oops! Review 260 is too long for the model!\n"
     ]
    },
    {
     "name": "stderr",
     "output_type": "stream",
     "text": [
      "263it [04:05,  1.32it/s]"
     ]
    },
    {
     "name": "stdout",
     "output_type": "stream",
     "text": [
      "Oops! Review 263 is too long for the model!\n"
     ]
    },
    {
     "name": "stderr",
     "output_type": "stream",
     "text": [
      "267it [04:07,  1.31it/s]"
     ]
    },
    {
     "name": "stdout",
     "output_type": "stream",
     "text": [
      "Oops! Review 267 is too long for the model!\n"
     ]
    },
    {
     "name": "stderr",
     "output_type": "stream",
     "text": [
      "276it [04:16,  1.09s/it]"
     ]
    },
    {
     "name": "stdout",
     "output_type": "stream",
     "text": [
      "Oops! Review 276 is too long for the model!\n"
     ]
    },
    {
     "name": "stderr",
     "output_type": "stream",
     "text": [
      "295it [04:35,  1.09it/s]"
     ]
    },
    {
     "name": "stdout",
     "output_type": "stream",
     "text": [
      "Oops! Review 295 is too long for the model!\n"
     ]
    },
    {
     "name": "stderr",
     "output_type": "stream",
     "text": [
      "297it [04:36,  1.46it/s]"
     ]
    },
    {
     "name": "stdout",
     "output_type": "stream",
     "text": [
      "Oops! Review 297 is too long for the model!\n"
     ]
    },
    {
     "name": "stderr",
     "output_type": "stream",
     "text": [
      "310it [04:48,  1.07it/s]"
     ]
    },
    {
     "name": "stdout",
     "output_type": "stream",
     "text": [
      "Oops! Review 310 is too long for the model!\n"
     ]
    },
    {
     "name": "stderr",
     "output_type": "stream",
     "text": [
      "314it [04:50,  1.40it/s]"
     ]
    },
    {
     "name": "stdout",
     "output_type": "stream",
     "text": [
      "Oops! Review 314 is too long for the model!\n"
     ]
    },
    {
     "name": "stderr",
     "output_type": "stream",
     "text": [
      "320it [04:56,  1.11s/it]"
     ]
    },
    {
     "name": "stdout",
     "output_type": "stream",
     "text": [
      "Oops! Review 320 is too long for the model!\n"
     ]
    },
    {
     "name": "stderr",
     "output_type": "stream",
     "text": [
      "322it [04:57,  1.30it/s]"
     ]
    },
    {
     "name": "stdout",
     "output_type": "stream",
     "text": [
      "Oops! Review 322 is too long for the model!\n"
     ]
    },
    {
     "name": "stderr",
     "output_type": "stream",
     "text": [
      "332it [05:04,  1.28it/s]"
     ]
    },
    {
     "name": "stdout",
     "output_type": "stream",
     "text": [
      "Oops! Review 332 is too long for the model!\n"
     ]
    },
    {
     "name": "stderr",
     "output_type": "stream",
     "text": [
      "338it [05:09,  1.29it/s]"
     ]
    },
    {
     "name": "stdout",
     "output_type": "stream",
     "text": [
      "Oops! Review 338 is too long for the model!\n"
     ]
    },
    {
     "name": "stderr",
     "output_type": "stream",
     "text": [
      "353it [05:25,  1.30s/it]"
     ]
    },
    {
     "name": "stdout",
     "output_type": "stream",
     "text": [
      "Oops! Review 353 is too long for the model!\n"
     ]
    },
    {
     "name": "stderr",
     "output_type": "stream",
     "text": [
      "363it [05:36,  1.26s/it]"
     ]
    },
    {
     "name": "stdout",
     "output_type": "stream",
     "text": [
      "Oops! Review 363 is too long for the model!\n",
      "Oops! Review 364 is too long for the model!\n",
      "Oops! Review 365 is too long for the model!\n"
     ]
    },
    {
     "name": "stderr",
     "output_type": "stream",
     "text": [
      "373it [05:44,  1.19s/it]"
     ]
    },
    {
     "name": "stdout",
     "output_type": "stream",
     "text": [
      "Oops! Review 373 is too long for the model!\n",
      "Oops! Review 374 is too long for the model!\n"
     ]
    },
    {
     "name": "stderr",
     "output_type": "stream",
     "text": [
      "378it [05:47,  1.23it/s]"
     ]
    },
    {
     "name": "stdout",
     "output_type": "stream",
     "text": [
      "Oops! Review 378 is too long for the model!\n"
     ]
    },
    {
     "name": "stderr",
     "output_type": "stream",
     "text": [
      "400it [06:10,  1.01s/it]"
     ]
    },
    {
     "name": "stdout",
     "output_type": "stream",
     "text": [
      "Oops! Review 400 is too long for the model!\n"
     ]
    },
    {
     "name": "stderr",
     "output_type": "stream",
     "text": [
      "402it [06:11,  1.23it/s]"
     ]
    },
    {
     "name": "stdout",
     "output_type": "stream",
     "text": [
      "Oops! Review 402 is too long for the model!\n"
     ]
    },
    {
     "name": "stderr",
     "output_type": "stream",
     "text": [
      "407it [06:15,  1.11it/s]"
     ]
    },
    {
     "name": "stdout",
     "output_type": "stream",
     "text": [
      "Oops! Review 407 is too long for the model!\n"
     ]
    },
    {
     "name": "stderr",
     "output_type": "stream",
     "text": [
      "410it [06:17,  1.35it/s]"
     ]
    },
    {
     "name": "stdout",
     "output_type": "stream",
     "text": [
      "Oops! Review 410 is too long for the model!\n"
     ]
    },
    {
     "name": "stderr",
     "output_type": "stream",
     "text": [
      "418it [06:24,  1.14it/s]"
     ]
    },
    {
     "name": "stdout",
     "output_type": "stream",
     "text": [
      "Oops! Review 418 is too long for the model!\n"
     ]
    },
    {
     "name": "stderr",
     "output_type": "stream",
     "text": [
      "422it [06:28,  1.07s/it]"
     ]
    },
    {
     "name": "stdout",
     "output_type": "stream",
     "text": [
      "Oops! Review 422 is too long for the model!\n"
     ]
    },
    {
     "name": "stderr",
     "output_type": "stream",
     "text": [
      "424it [06:29,  1.18it/s]"
     ]
    },
    {
     "name": "stdout",
     "output_type": "stream",
     "text": [
      "Oops! Review 424 is too long for the model!\n"
     ]
    },
    {
     "name": "stderr",
     "output_type": "stream",
     "text": [
      "433it [06:39,  1.15s/it]"
     ]
    },
    {
     "name": "stdout",
     "output_type": "stream",
     "text": [
      "Oops! Review 433 is too long for the model!\n"
     ]
    },
    {
     "name": "stderr",
     "output_type": "stream",
     "text": [
      "435it [06:39,  1.22it/s]"
     ]
    },
    {
     "name": "stdout",
     "output_type": "stream",
     "text": [
      "Oops! Review 435 is too long for the model!\n"
     ]
    },
    {
     "name": "stderr",
     "output_type": "stream",
     "text": [
      "442it [06:46,  1.04it/s]"
     ]
    },
    {
     "name": "stdout",
     "output_type": "stream",
     "text": [
      "Oops! Review 442 is too long for the model!\n"
     ]
    },
    {
     "name": "stderr",
     "output_type": "stream",
     "text": [
      "454it [06:57,  1.07s/it]"
     ]
    },
    {
     "name": "stdout",
     "output_type": "stream",
     "text": [
      "Oops! Review 454 is too long for the model!\n"
     ]
    },
    {
     "name": "stderr",
     "output_type": "stream",
     "text": [
      "456it [06:58,  1.23it/s]"
     ]
    },
    {
     "name": "stdout",
     "output_type": "stream",
     "text": [
      "Oops! Review 456 is too long for the model!\n"
     ]
    },
    {
     "name": "stderr",
     "output_type": "stream",
     "text": [
      "463it [07:04,  1.11it/s]"
     ]
    },
    {
     "name": "stdout",
     "output_type": "stream",
     "text": [
      "Oops! Review 463 is too long for the model!\n"
     ]
    },
    {
     "name": "stderr",
     "output_type": "stream",
     "text": [
      "473it [07:14,  1.11s/it]"
     ]
    },
    {
     "name": "stdout",
     "output_type": "stream",
     "text": [
      "Oops! Review 473 is too long for the model!\n"
     ]
    },
    {
     "name": "stderr",
     "output_type": "stream",
     "text": [
      "479it [07:21,  1.24s/it]"
     ]
    },
    {
     "name": "stdout",
     "output_type": "stream",
     "text": [
      "Oops! Review 479 is too long for the model!\n"
     ]
    },
    {
     "name": "stderr",
     "output_type": "stream",
     "text": [
      "492it [07:34,  1.03s/it]"
     ]
    },
    {
     "name": "stdout",
     "output_type": "stream",
     "text": [
      "Oops! Review 492 is too long for the model!\n"
     ]
    },
    {
     "name": "stderr",
     "output_type": "stream",
     "text": [
      "500it [07:40,  1.09it/s]"
     ]
    },
    {
     "name": "stdout",
     "output_type": "stream",
     "text": [
      "Oops! Review 499 is too long for the model!\n"
     ]
    },
    {
     "name": "stderr",
     "output_type": "stream",
     "text": [
      "\n"
     ]
    }
   ],
   "source": [
    "#some of the reviews are too long for the model to do sentiment analysis on\n",
    "#so we make a list of those reviews it is able to score and another list with the reviews that are too long\n",
    "\n",
    "sentiment_scores = [] #list for reviews for the model to do sentiment analysis on\n",
    "bad_ids = [] #list for reviews that are too long to do sentiment analysis on\n",
    "#for every row in my data\n",
    "for idx, row in tqdm(data.iterrows()):\n",
    "    #iterate over pandas dataframe (go through all entrys in df)\n",
    "    #make prediction on the review column\n",
    "    try:\n",
    "        # try the following code to extract sentiment\n",
    "        predictions = sentiment_analysis(row[\"review\"])\n",
    "        #append to the empty output list called sentiment_scores\n",
    "        sentiment_scores.append(predictions)\n",
    "    except:\n",
    "        # if that doesn't work, just print this and move on:\n",
    "        print(f\"Oops! Review {idx} is too long for the model!\")\n",
    "        # a list of ids to be excluded: append to the bad_ids list\n",
    "        bad_ids.append(idx)"
   ]
  },
  {
   "cell_type": "code",
   "execution_count": 46,
   "id": "1745ecd1-c712-4aa0-92d6-8cc141bd7e5b",
   "metadata": {
    "collapsed": true,
    "execution": {
     "iopub.execute_input": "2022-05-20T19:08:44.961907Z",
     "iopub.status.busy": "2022-05-20T19:08:44.961566Z",
     "iopub.status.idle": "2022-05-20T19:08:44.969030Z",
     "shell.execute_reply": "2022-05-20T19:08:44.968243Z",
     "shell.execute_reply.started": "2022-05-20T19:08:44.961875Z"
    },
    "jupyter": {
     "outputs_hidden": true
    },
    "tags": []
   },
   "outputs": [
    {
     "name": "stdout",
     "output_type": "stream",
     "text": [
      "[[{'label': 'POSITIVE', 'score': 0.9988124370574951}], [{'label': 'POSITIVE', 'score': 0.9989343285560608}], [{'label': 'POSITIVE', 'score': 0.998934805393219}], [{'label': 'NEGATIVE', 'score': 0.9995043277740479}], [{'label': 'POSITIVE', 'score': 0.9988835453987122}], [{'label': 'POSITIVE', 'score': 0.9988895058631897}], [{'label': 'POSITIVE', 'score': 0.9941018223762512}], [{'label': 'NEGATIVE', 'score': 0.9995146989822388}], [{'label': 'NEGATIVE', 'score': 0.9995176792144775}], [{'label': 'POSITIVE', 'score': 0.9989001750946045}], [{'label': 'NEGATIVE', 'score': 0.9994913339614868}], [{'label': 'POSITIVE', 'score': 0.9932581186294556}], [{'label': 'NEGATIVE', 'score': 0.9995067119598389}], [{'label': 'POSITIVE', 'score': 0.9989084005355835}], [{'label': 'NEGATIVE', 'score': 0.9995158910751343}], [{'label': 'NEGATIVE', 'score': 0.9983599781990051}], [{'label': 'NEGATIVE', 'score': 0.9995115995407104}], [{'label': 'POSITIVE', 'score': 0.9960166811943054}], [{'label': 'NEGATIVE', 'score': 0.9995135068893433}], [{'label': 'POSITIVE', 'score': 0.9988617897033691}], [{'label': 'NEGATIVE', 'score': 0.9995191097259521}], [{'label': 'POSITIVE', 'score': 0.9988994598388672}], [{'label': 'NEGATIVE', 'score': 0.9995154142379761}], [{'label': 'NEGATIVE', 'score': 0.9995104074478149}], [{'label': 'NEGATIVE', 'score': 0.9807133078575134}], [{'label': 'NEGATIVE', 'score': 0.9994588494300842}], [{'label': 'NEGATIVE', 'score': 0.9994833469390869}], [{'label': 'POSITIVE', 'score': 0.9988825917243958}], [{'label': 'NEGATIVE', 'score': 0.9995135068893433}], [{'label': 'NEGATIVE', 'score': 0.9995163679122925}], [{'label': 'NEGATIVE', 'score': 0.9995118379592896}], [{'label': 'NEGATIVE', 'score': 0.9995056390762329}], [{'label': 'NEGATIVE', 'score': 0.9995092153549194}], [{'label': 'POSITIVE', 'score': 0.9916276931762695}], [{'label': 'NEGATIVE', 'score': 0.9995088577270508}], [{'label': 'NEGATIVE', 'score': 0.9995108842849731}], [{'label': 'POSITIVE', 'score': 0.9989120960235596}], [{'label': 'NEGATIVE', 'score': 0.9994725584983826}], [{'label': 'NEGATIVE', 'score': 0.9995144605636597}], [{'label': 'POSITIVE', 'score': 0.9981695413589478}], [{'label': 'POSITIVE', 'score': 0.9989180564880371}], [{'label': 'NEGATIVE', 'score': 0.9995114803314209}], [{'label': 'NEGATIVE', 'score': 0.9994939565658569}], [{'label': 'NEGATIVE', 'score': 0.9990808963775635}], [{'label': 'POSITIVE', 'score': 0.9984958171844482}], [{'label': 'POSITIVE', 'score': 0.9988799691200256}], [{'label': 'NEGATIVE', 'score': 0.9981579184532166}], [{'label': 'NEGATIVE', 'score': 0.9995051622390747}], [{'label': 'NEGATIVE', 'score': 0.9878600239753723}], [{'label': 'NEGATIVE', 'score': 0.999478280544281}], [{'label': 'NEGATIVE', 'score': 0.9995111227035522}], [{'label': 'NEGATIVE', 'score': 0.9995110034942627}], [{'label': 'POSITIVE', 'score': 0.9987009763717651}], [{'label': 'NEGATIVE', 'score': 0.9995120763778687}], [{'label': 'NEGATIVE', 'score': 0.9995100498199463}], [{'label': 'POSITIVE', 'score': 0.9989251494407654}], [{'label': 'NEGATIVE', 'score': 0.9995110034942627}], [{'label': 'NEGATIVE', 'score': 0.9992204904556274}], [{'label': 'NEGATIVE', 'score': 0.9995043277740479}], [{'label': 'NEGATIVE', 'score': 0.9995129108428955}], [{'label': 'POSITIVE', 'score': 0.996044397354126}], [{'label': 'NEGATIVE', 'score': 0.9994969367980957}], [{'label': 'POSITIVE', 'score': 0.9989259839057922}], [{'label': 'POSITIVE', 'score': 0.9988529682159424}], [{'label': 'NEGATIVE', 'score': 0.8516101837158203}], [{'label': 'POSITIVE', 'score': 0.9988517761230469}], [{'label': 'POSITIVE', 'score': 0.9982531666755676}], [{'label': 'NEGATIVE', 'score': 0.9995101690292358}], [{'label': 'POSITIVE', 'score': 0.9989354014396667}], [{'label': 'POSITIVE', 'score': 0.9988293051719666}], [{'label': 'NEGATIVE', 'score': 0.9995118379592896}], [{'label': 'NEGATIVE', 'score': 0.999506950378418}], [{'label': 'NEGATIVE', 'score': 0.9995135068893433}], [{'label': 'NEGATIVE', 'score': 0.9995144605636597}], [{'label': 'NEGATIVE', 'score': 0.9995169639587402}], [{'label': 'NEGATIVE', 'score': 0.9984201192855835}], [{'label': 'NEGATIVE', 'score': 0.9992411136627197}], [{'label': 'NEGATIVE', 'score': 0.999514102935791}], [{'label': 'NEGATIVE', 'score': 0.9995007514953613}], [{'label': 'POSITIVE', 'score': 0.9989234805107117}], [{'label': 'NEGATIVE', 'score': 0.9995002746582031}], [{'label': 'POSITIVE', 'score': 0.9989394545555115}], [{'label': 'NEGATIVE', 'score': 0.9992146492004395}], [{'label': 'POSITIVE', 'score': 0.9989184141159058}], [{'label': 'NEGATIVE', 'score': 0.9995129108428955}], [{'label': 'NEGATIVE', 'score': 0.9995020627975464}], [{'label': 'NEGATIVE', 'score': 0.9995158910751343}], [{'label': 'POSITIVE', 'score': 0.9977655410766602}], [{'label': 'POSITIVE', 'score': 0.9988133907318115}], [{'label': 'NEGATIVE', 'score': 0.9982160925865173}], [{'label': 'NEGATIVE', 'score': 0.999489426612854}], [{'label': 'POSITIVE', 'score': 0.998828113079071}], [{'label': 'POSITIVE', 'score': 0.9988517761230469}], [{'label': 'NEGATIVE', 'score': 0.9995112419128418}], [{'label': 'POSITIVE', 'score': 0.9978700876235962}], [{'label': 'POSITIVE', 'score': 0.9989306330680847}], [{'label': 'NEGATIVE', 'score': 0.9995118379592896}], [{'label': 'NEGATIVE', 'score': 0.9995125532150269}], [{'label': 'NEGATIVE', 'score': 0.9995061159133911}], [{'label': 'POSITIVE', 'score': 0.9989190101623535}], [{'label': 'POSITIVE', 'score': 0.9989069700241089}], [{'label': 'POSITIVE', 'score': 0.9989204406738281}], [{'label': 'POSITIVE', 'score': 0.9987486600875854}], [{'label': 'NEGATIVE', 'score': 0.9995185136795044}], [{'label': 'NEGATIVE', 'score': 0.9995081424713135}], [{'label': 'NEGATIVE', 'score': 0.9983626008033752}], [{'label': 'POSITIVE', 'score': 0.9984934329986572}], [{'label': 'POSITIVE', 'score': 0.998900294303894}], [{'label': 'NEGATIVE', 'score': 0.9993748068809509}], [{'label': 'NEGATIVE', 'score': 0.9985783100128174}], [{'label': 'POSITIVE', 'score': 0.9987665414810181}], [{'label': 'NEGATIVE', 'score': 0.9995073080062866}], [{'label': 'NEGATIVE', 'score': 0.9991965889930725}], [{'label': 'POSITIVE', 'score': 0.9989182949066162}], [{'label': 'POSITIVE', 'score': 0.9986745119094849}], [{'label': 'POSITIVE', 'score': 0.9987885355949402}], [{'label': 'NEGATIVE', 'score': 0.9994305968284607}], [{'label': 'NEGATIVE', 'score': 0.9994792342185974}], [{'label': 'NEGATIVE', 'score': 0.9995107650756836}], [{'label': 'NEGATIVE', 'score': 0.9995126724243164}], [{'label': 'POSITIVE', 'score': 0.9926665425300598}], [{'label': 'NEGATIVE', 'score': 0.9965536594390869}], [{'label': 'POSITIVE', 'score': 0.9989312291145325}], [{'label': 'NEGATIVE', 'score': 0.9995136260986328}], [{'label': 'NEGATIVE', 'score': 0.9995126724243164}], [{'label': 'POSITIVE', 'score': 0.9986900687217712}], [{'label': 'NEGATIVE', 'score': 0.9995137453079224}], [{'label': 'POSITIVE', 'score': 0.9988213181495667}], [{'label': 'POSITIVE', 'score': 0.9983710646629333}], [{'label': 'POSITIVE', 'score': 0.9989238381385803}], [{'label': 'NEGATIVE', 'score': 0.9995137453079224}], [{'label': 'NEGATIVE', 'score': 0.9995130300521851}], [{'label': 'POSITIVE', 'score': 0.9988085031509399}], [{'label': 'POSITIVE', 'score': 0.9976673722267151}], [{'label': 'NEGATIVE', 'score': 0.9995050430297852}], [{'label': 'POSITIVE', 'score': 0.9989035129547119}], [{'label': 'NEGATIVE', 'score': 0.9995102882385254}], [{'label': 'POSITIVE', 'score': 0.9978973865509033}], [{'label': 'POSITIVE', 'score': 0.9989323019981384}], [{'label': 'NEGATIVE', 'score': 0.9987748265266418}], [{'label': 'POSITIVE', 'score': 0.9989216327667236}], [{'label': 'POSITIVE', 'score': 0.9989137649536133}], [{'label': 'NEGATIVE', 'score': 0.9995120763778687}], [{'label': 'NEGATIVE', 'score': 0.9995112419128418}], [{'label': 'POSITIVE', 'score': 0.998865008354187}], [{'label': 'NEGATIVE', 'score': 0.9994890689849854}], [{'label': 'POSITIVE', 'score': 0.9989055395126343}], [{'label': 'NEGATIVE', 'score': 0.9995068311691284}], [{'label': 'NEGATIVE', 'score': 0.9995155334472656}], [{'label': 'NEGATIVE', 'score': 0.9995161294937134}], [{'label': 'NEGATIVE', 'score': 0.9994747042655945}], [{'label': 'NEGATIVE', 'score': 0.9995018243789673}], [{'label': 'POSITIVE', 'score': 0.9987454414367676}], [{'label': 'NEGATIVE', 'score': 0.9995095729827881}], [{'label': 'NEGATIVE', 'score': 0.9995114803314209}], [{'label': 'POSITIVE', 'score': 0.9988839030265808}], [{'label': 'POSITIVE', 'score': 0.9989110231399536}], [{'label': 'NEGATIVE', 'score': 0.9995135068893433}], [{'label': 'POSITIVE', 'score': 0.9988547563552856}], [{'label': 'NEGATIVE', 'score': 0.984397828578949}], [{'label': 'NEGATIVE', 'score': 0.9995090961456299}], [{'label': 'NEGATIVE', 'score': 0.9995096921920776}], [{'label': 'NEGATIVE', 'score': 0.999515175819397}], [{'label': 'NEGATIVE', 'score': 0.9992953538894653}], [{'label': 'POSITIVE', 'score': 0.9989112615585327}], [{'label': 'POSITIVE', 'score': 0.9988080263137817}], [{'label': 'POSITIVE', 'score': 0.9987678527832031}], [{'label': 'POSITIVE', 'score': 0.9989357590675354}], [{'label': 'NEGATIVE', 'score': 0.9995021820068359}], [{'label': 'NEGATIVE', 'score': 0.9995170831680298}], [{'label': 'NEGATIVE', 'score': 0.999502420425415}], [{'label': 'NEGATIVE', 'score': 0.9995108842849731}], [{'label': 'NEGATIVE', 'score': 0.9994935989379883}], [{'label': 'POSITIVE', 'score': 0.9986613988876343}], [{'label': 'POSITIVE', 'score': 0.9988930821418762}], [{'label': 'POSITIVE', 'score': 0.9989200830459595}], [{'label': 'POSITIVE', 'score': 0.9989262223243713}], [{'label': 'NEGATIVE', 'score': 0.9995057582855225}], [{'label': 'POSITIVE', 'score': 0.9989334940910339}], [{'label': 'NEGATIVE', 'score': 0.9995079040527344}], [{'label': 'NEGATIVE', 'score': 0.9995064735412598}], [{'label': 'POSITIVE', 'score': 0.9987712502479553}], [{'label': 'POSITIVE', 'score': 0.9988896250724792}], [{'label': 'NEGATIVE', 'score': 0.9995076656341553}], [{'label': 'NEGATIVE', 'score': 0.999504566192627}], [{'label': 'POSITIVE', 'score': 0.9989258646965027}], [{'label': 'NEGATIVE', 'score': 0.9995043277740479}], [{'label': 'POSITIVE', 'score': 0.9989176988601685}], [{'label': 'POSITIVE', 'score': 0.9989336133003235}], [{'label': 'NEGATIVE', 'score': 0.9995162487030029}], [{'label': 'NEGATIVE', 'score': 0.9994847774505615}], [{'label': 'NEGATIVE', 'score': 0.999510645866394}], [{'label': 'POSITIVE', 'score': 0.9988909363746643}], [{'label': 'POSITIVE', 'score': 0.9989023208618164}], [{'label': 'NEGATIVE', 'score': 0.9995100498199463}], [{'label': 'POSITIVE', 'score': 0.9989234805107117}], [{'label': 'NEGATIVE', 'score': 0.9995073080062866}], [{'label': 'POSITIVE', 'score': 0.9989074468612671}], [{'label': 'POSITIVE', 'score': 0.998938262462616}], [{'label': 'POSITIVE', 'score': 0.9988633394241333}], [{'label': 'NEGATIVE', 'score': 0.9995071887969971}], [{'label': 'POSITIVE', 'score': 0.9989293217658997}], [{'label': 'POSITIVE', 'score': 0.998801589012146}], [{'label': 'POSITIVE', 'score': 0.9988874793052673}], [{'label': 'POSITIVE', 'score': 0.9988623857498169}], [{'label': 'POSITIVE', 'score': 0.9988563060760498}], [{'label': 'POSITIVE', 'score': 0.9988952279090881}], [{'label': 'NEGATIVE', 'score': 0.999509334564209}], [{'label': 'POSITIVE', 'score': 0.9987780451774597}], [{'label': 'NEGATIVE', 'score': 0.9995161294937134}], [{'label': 'NEGATIVE', 'score': 0.9995112419128418}], [{'label': 'POSITIVE', 'score': 0.9988452196121216}], [{'label': 'NEGATIVE', 'score': 0.9995051622390747}], [{'label': 'POSITIVE', 'score': 0.9954806566238403}], [{'label': 'NEGATIVE', 'score': 0.9991621971130371}], [{'label': 'POSITIVE', 'score': 0.9988999366760254}], [{'label': 'NEGATIVE', 'score': 0.9995089769363403}], [{'label': 'NEGATIVE', 'score': 0.9995063543319702}], [{'label': 'POSITIVE', 'score': 0.9989271759986877}], [{'label': 'NEGATIVE', 'score': 0.9995070695877075}], [{'label': 'NEGATIVE', 'score': 0.9995125532150269}], [{'label': 'NEGATIVE', 'score': 0.9995040893554688}], [{'label': 'NEGATIVE', 'score': 0.9993534684181213}], [{'label': 'NEGATIVE', 'score': 0.9993485808372498}], [{'label': 'NEGATIVE', 'score': 0.99951171875}], [{'label': 'NEGATIVE', 'score': 0.9906148910522461}], [{'label': 'POSITIVE', 'score': 0.9967118501663208}], [{'label': 'NEGATIVE', 'score': 0.9995136260986328}], [{'label': 'NEGATIVE', 'score': 0.9994866847991943}], [{'label': 'NEGATIVE', 'score': 0.9995112419128418}], [{'label': 'POSITIVE', 'score': 0.9988716244697571}], [{'label': 'NEGATIVE', 'score': 0.9995142221450806}], [{'label': 'NEGATIVE', 'score': 0.9994485974311829}], [{'label': 'POSITIVE', 'score': 0.9988706707954407}], [{'label': 'NEGATIVE', 'score': 0.9994372725486755}], [{'label': 'POSITIVE', 'score': 0.9989306330680847}], [{'label': 'POSITIVE', 'score': 0.9988538026809692}], [{'label': 'POSITIVE', 'score': 0.9988263249397278}], [{'label': 'NEGATIVE', 'score': 0.9995080232620239}], [{'label': 'POSITIVE', 'score': 0.9988915324211121}], [{'label': 'POSITIVE', 'score': 0.9988792538642883}], [{'label': 'NEGATIVE', 'score': 0.999506950378418}], [{'label': 'POSITIVE', 'score': 0.9989041090011597}], [{'label': 'POSITIVE', 'score': 0.99892657995224}], [{'label': 'NEGATIVE', 'score': 0.9994733929634094}], [{'label': 'NEGATIVE', 'score': 0.9995133876800537}], [{'label': 'NEGATIVE', 'score': 0.9995092153549194}], [{'label': 'POSITIVE', 'score': 0.9987982511520386}], [{'label': 'NEGATIVE', 'score': 0.999514102935791}], [{'label': 'POSITIVE', 'score': 0.9987050294876099}], [{'label': 'POSITIVE', 'score': 0.9973376393318176}], [{'label': 'POSITIVE', 'score': 0.9989342093467712}], [{'label': 'POSITIVE', 'score': 0.9988790154457092}], [{'label': 'POSITIVE', 'score': 0.998909592628479}], [{'label': 'POSITIVE', 'score': 0.9989376664161682}], [{'label': 'POSITIVE', 'score': 0.9988743662834167}], [{'label': 'POSITIVE', 'score': 0.9987849593162537}], [{'label': 'POSITIVE', 'score': 0.9989219903945923}], [{'label': 'NEGATIVE', 'score': 0.9995125532150269}], [{'label': 'POSITIVE', 'score': 0.9987537860870361}], [{'label': 'POSITIVE', 'score': 0.998930037021637}], [{'label': 'NEGATIVE', 'score': 0.9994989633560181}], [{'label': 'NEGATIVE', 'score': 0.9978082776069641}], [{'label': 'POSITIVE', 'score': 0.9988916516304016}], [{'label': 'POSITIVE', 'score': 0.9981995820999146}], [{'label': 'POSITIVE', 'score': 0.9989150762557983}], [{'label': 'POSITIVE', 'score': 0.998931348323822}], [{'label': 'POSITIVE', 'score': 0.9988976716995239}], [{'label': 'NEGATIVE', 'score': 0.9995013475418091}], [{'label': 'NEGATIVE', 'score': 0.999512791633606}], [{'label': 'NEGATIVE', 'score': 0.999265730381012}], [{'label': 'NEGATIVE', 'score': 0.9994816184043884}], [{'label': 'NEGATIVE', 'score': 0.9995080232620239}], [{'label': 'NEGATIVE', 'score': 0.999454915523529}], [{'label': 'NEGATIVE', 'score': 0.993122398853302}], [{'label': 'POSITIVE', 'score': 0.9988559484481812}], [{'label': 'POSITIVE', 'score': 0.9986728429794312}], [{'label': 'POSITIVE', 'score': 0.9987660646438599}], [{'label': 'NEGATIVE', 'score': 0.9994614720344543}], [{'label': 'POSITIVE', 'score': 0.9988852143287659}], [{'label': 'POSITIVE', 'score': 0.998928964138031}], [{'label': 'NEGATIVE', 'score': 0.9994800686836243}], [{'label': 'POSITIVE', 'score': 0.9989010095596313}], [{'label': 'POSITIVE', 'score': 0.9986829161643982}], [{'label': 'NEGATIVE', 'score': 0.9994934797286987}], [{'label': 'POSITIVE', 'score': 0.9988688826560974}], [{'label': 'POSITIVE', 'score': 0.9989185333251953}], [{'label': 'NEGATIVE', 'score': 0.9995144605636597}], [{'label': 'POSITIVE', 'score': 0.9989029169082642}], [{'label': 'POSITIVE', 'score': 0.9988006353378296}], [{'label': 'POSITIVE', 'score': 0.9989375472068787}], [{'label': 'NEGATIVE', 'score': 0.999497652053833}], [{'label': 'POSITIVE', 'score': 0.9988927245140076}], [{'label': 'POSITIVE', 'score': 0.9989073276519775}], [{'label': 'NEGATIVE', 'score': 0.9995089769363403}], [{'label': 'NEGATIVE', 'score': 0.9995087385177612}], [{'label': 'POSITIVE', 'score': 0.9985690116882324}], [{'label': 'POSITIVE', 'score': 0.9984519481658936}], [{'label': 'POSITIVE', 'score': 0.9988916516304016}], [{'label': 'NEGATIVE', 'score': 0.9995139837265015}], [{'label': 'NEGATIVE', 'score': 0.9995125532150269}], [{'label': 'NEGATIVE', 'score': 0.999512791633606}], [{'label': 'POSITIVE', 'score': 0.9989069700241089}], [{'label': 'NEGATIVE', 'score': 0.9995108842849731}], [{'label': 'NEGATIVE', 'score': 0.999150276184082}], [{'label': 'POSITIVE', 'score': 0.9977455735206604}], [{'label': 'NEGATIVE', 'score': 0.9995055198669434}], [{'label': 'NEGATIVE', 'score': 0.9995152950286865}], [{'label': 'NEGATIVE', 'score': 0.9995098114013672}], [{'label': 'NEGATIVE', 'score': 0.9995104074478149}], [{'label': 'POSITIVE', 'score': 0.9989174604415894}], [{'label': 'NEGATIVE', 'score': 0.9986080527305603}], [{'label': 'NEGATIVE', 'score': 0.9995054006576538}], [{'label': 'NEGATIVE', 'score': 0.9995133876800537}], [{'label': 'POSITIVE', 'score': 0.9987127780914307}], [{'label': 'NEGATIVE', 'score': 0.9995055198669434}], [{'label': 'POSITIVE', 'score': 0.9987321496009827}], [{'label': 'NEGATIVE', 'score': 0.9983711838722229}], [{'label': 'NEGATIVE', 'score': 0.9995121955871582}], [{'label': 'POSITIVE', 'score': 0.9987868666648865}], [{'label': 'POSITIVE', 'score': 0.9988815188407898}], [{'label': 'POSITIVE', 'score': 0.9989057779312134}], [{'label': 'POSITIVE', 'score': 0.9982849955558777}], [{'label': 'NEGATIVE', 'score': 0.9995030164718628}], [{'label': 'NEGATIVE', 'score': 0.9995144605636597}], [{'label': 'POSITIVE', 'score': 0.997995138168335}], [{'label': 'NEGATIVE', 'score': 0.9995094537734985}], [{'label': 'NEGATIVE', 'score': 0.9994233846664429}], [{'label': 'NEGATIVE', 'score': 0.9994723200798035}], [{'label': 'POSITIVE', 'score': 0.9989388585090637}], [{'label': 'POSITIVE', 'score': 0.9989150762557983}], [{'label': 'NEGATIVE', 'score': 0.9995099306106567}], [{'label': 'NEGATIVE', 'score': 0.9995043277740479}], [{'label': 'NEGATIVE', 'score': 0.9995086193084717}], [{'label': 'NEGATIVE', 'score': 0.9995101690292358}], [{'label': 'POSITIVE', 'score': 0.9987900853157043}], [{'label': 'NEGATIVE', 'score': 0.9957589507102966}], [{'label': 'POSITIVE', 'score': 0.9988811612129211}], [{'label': 'POSITIVE', 'score': 0.9989047050476074}], [{'label': 'NEGATIVE', 'score': 0.9995079040527344}], [{'label': 'POSITIVE', 'score': 0.9988344311714172}], [{'label': 'POSITIVE', 'score': 0.9989237189292908}], [{'label': 'POSITIVE', 'score': 0.9987218976020813}], [{'label': 'NEGATIVE', 'score': 0.9995131492614746}], [{'label': 'NEGATIVE', 'score': 0.9995064735412598}], [{'label': 'POSITIVE', 'score': 0.9988692402839661}], [{'label': 'NEGATIVE', 'score': 0.9995015859603882}], [{'label': 'POSITIVE', 'score': 0.9989223480224609}], [{'label': 'NEGATIVE', 'score': 0.9995088577270508}], [{'label': 'POSITIVE', 'score': 0.9984550476074219}], [{'label': 'POSITIVE', 'score': 0.9965008497238159}], [{'label': 'POSITIVE', 'score': 0.9987094402313232}], [{'label': 'POSITIVE', 'score': 0.9988760352134705}], [{'label': 'NEGATIVE', 'score': 0.9995144605636597}], [{'label': 'POSITIVE', 'score': 0.9987227320671082}], [{'label': 'POSITIVE', 'score': 0.9988853335380554}], [{'label': 'NEGATIVE', 'score': 0.9993871450424194}], [{'label': 'NEGATIVE', 'score': 0.9995086193084717}], [{'label': 'NEGATIVE', 'score': 0.999357283115387}], [{'label': 'NEGATIVE', 'score': 0.9995081424713135}], [{'label': 'NEGATIVE', 'score': 0.9995136260986328}], [{'label': 'POSITIVE', 'score': 0.9986904263496399}], [{'label': 'NEGATIVE', 'score': 0.9995031356811523}], [{'label': 'NEGATIVE', 'score': 0.9995056390762329}], [{'label': 'NEGATIVE', 'score': 0.9994994401931763}], [{'label': 'POSITIVE', 'score': 0.998554527759552}], [{'label': 'POSITIVE', 'score': 0.9989192485809326}], [{'label': 'POSITIVE', 'score': 0.9988541603088379}], [{'label': 'POSITIVE', 'score': 0.9987770915031433}], [{'label': 'NEGATIVE', 'score': 0.9995123147964478}], [{'label': 'POSITIVE', 'score': 0.9989252686500549}], [{'label': 'NEGATIVE', 'score': 0.9995174407958984}], [{'label': 'NEGATIVE', 'score': 0.999508261680603}], [{'label': 'NEGATIVE', 'score': 0.9995085000991821}], [{'label': 'NEGATIVE', 'score': 0.9994957447052002}], [{'label': 'POSITIVE', 'score': 0.9988839030265808}], [{'label': 'POSITIVE', 'score': 0.9974504113197327}], [{'label': 'POSITIVE', 'score': 0.99858558177948}], [{'label': 'POSITIVE', 'score': 0.9988144636154175}], [{'label': 'NEGATIVE', 'score': 0.9995173215866089}], [{'label': 'POSITIVE', 'score': 0.9989368319511414}], [{'label': 'NEGATIVE', 'score': 0.9995144605636597}], [{'label': 'NEGATIVE', 'score': 0.9995135068893433}], [{'label': 'NEGATIVE', 'score': 0.9995155334472656}], [{'label': 'NEGATIVE', 'score': 0.9995118379592896}], [{'label': 'POSITIVE', 'score': 0.9988149404525757}], [{'label': 'NEGATIVE', 'score': 0.9993972778320312}], [{'label': 'NEGATIVE', 'score': 0.9994750618934631}], [{'label': 'POSITIVE', 'score': 0.9987909197807312}], [{'label': 'POSITIVE', 'score': 0.9988822340965271}], [{'label': 'NEGATIVE', 'score': 0.9995150566101074}], [{'label': 'POSITIVE', 'score': 0.9989287257194519}], [{'label': 'POSITIVE', 'score': 0.9988600015640259}], [{'label': 'POSITIVE', 'score': 0.9987806677818298}], [{'label': 'NEGATIVE', 'score': 0.9988522529602051}], [{'label': 'NEGATIVE', 'score': 0.9995155334472656}], [{'label': 'POSITIVE', 'score': 0.9988265633583069}], [{'label': 'POSITIVE', 'score': 0.9989295601844788}], [{'label': 'NEGATIVE', 'score': 0.9995125532150269}], [{'label': 'NEGATIVE', 'score': 0.9995105266571045}], [{'label': 'POSITIVE', 'score': 0.9989374279975891}], [{'label': 'POSITIVE', 'score': 0.9974379539489746}], [{'label': 'POSITIVE', 'score': 0.9988595247268677}], [{'label': 'NEGATIVE', 'score': 0.9995111227035522}], [{'label': 'POSITIVE', 'score': 0.9989303946495056}], [{'label': 'NEGATIVE', 'score': 0.9995044469833374}], [{'label': 'NEGATIVE', 'score': 0.9994992017745972}], [{'label': 'NEGATIVE', 'score': 0.9995100498199463}], [{'label': 'POSITIVE', 'score': 0.9988889098167419}], [{'label': 'NEGATIVE', 'score': 0.9988425374031067}], [{'label': 'POSITIVE', 'score': 0.9989257454872131}], [{'label': 'NEGATIVE', 'score': 0.9995105266571045}], [{'label': 'NEGATIVE', 'score': 0.999503493309021}], [{'label': 'NEGATIVE', 'score': 0.9990664124488831}], [{'label': 'POSITIVE', 'score': 0.9989138841629028}], [{'label': 'NEGATIVE', 'score': 0.9995139837265015}], [{'label': 'POSITIVE', 'score': 0.9984863996505737}], [{'label': 'POSITIVE', 'score': 0.9989277720451355}], [{'label': 'NEGATIVE', 'score': 0.9995003938674927}], [{'label': 'NEGATIVE', 'score': 0.9995137453079224}], [{'label': 'POSITIVE', 'score': 0.9989069700241089}], [{'label': 'POSITIVE', 'score': 0.9988698363304138}], [{'label': 'NEGATIVE', 'score': 0.9995135068893433}], [{'label': 'NEGATIVE', 'score': 0.9995055198669434}], [{'label': 'POSITIVE', 'score': 0.9988530874252319}], [{'label': 'POSITIVE', 'score': 0.9989277720451355}], [{'label': 'POSITIVE', 'score': 0.9989161491394043}], [{'label': 'NEGATIVE', 'score': 0.9994972944259644}], [{'label': 'NEGATIVE', 'score': 0.999496579170227}], [{'label': 'NEGATIVE', 'score': 0.9995081424713135}], [{'label': 'NEGATIVE', 'score': 0.9993354678153992}]]\n"
     ]
    }
   ],
   "source": [
    "#look at the scored reviews\n",
    "print(sentiment_scores)"
   ]
  },
  {
   "cell_type": "code",
   "execution_count": 47,
   "id": "8a552224-b884-491d-b66a-fbb422758df4",
   "metadata": {
    "collapsed": true,
    "execution": {
     "iopub.execute_input": "2022-05-20T19:08:51.464917Z",
     "iopub.status.busy": "2022-05-20T19:08:51.464400Z",
     "iopub.status.idle": "2022-05-20T19:08:51.472057Z",
     "shell.execute_reply": "2022-05-20T19:08:51.470717Z",
     "shell.execute_reply.started": "2022-05-20T19:08:51.464869Z"
    },
    "jupyter": {
     "outputs_hidden": true
    },
    "tags": []
   },
   "outputs": [
    {
     "name": "stdout",
     "output_type": "stream",
     "text": [
      "[12, 26, 29, 30, 33, 48, 50, 51, 58, 59, 77, 92, 99, 101, 126, 131, 140, 142, 156, 163, 172, 177, 182, 186, 189, 191, 198, 210, 218, 228, 254, 257, 258, 260, 263, 267, 276, 295, 297, 310, 314, 320, 322, 332, 338, 353, 363, 364, 365, 373, 374, 378, 400, 402, 407, 410, 418, 422, 424, 433, 435, 442, 454, 456, 463, 473, 479, 492, 499]\n"
     ]
    }
   ],
   "source": [
    "#look at the non-scored reviews (those that are too long)\n",
    "print(bad_ids)"
   ]
  },
  {
   "cell_type": "code",
   "execution_count": 14,
   "id": "17a888f0-a249-4fb5-9d7b-efc238ce0a0c",
   "metadata": {
    "execution": {
     "iopub.execute_input": "2022-05-20T19:33:58.360960Z",
     "iopub.status.busy": "2022-05-20T19:33:58.360697Z",
     "iopub.status.idle": "2022-05-20T19:33:58.365445Z",
     "shell.execute_reply": "2022-05-20T19:33:58.364958Z",
     "shell.execute_reply.started": "2022-05-20T19:33:58.360937Z"
    },
    "tags": []
   },
   "outputs": [],
   "source": [
    "#make list keeping only the prediction (not certainty)\n",
    "predicted_labels = []\n",
    "for score in sentiment_scores:\n",
    "    label = score[0][\"label\"]\n",
    "    predicted_labels.append(label.lower()) #lowercase the predictions to match the IMDB labels"
   ]
  },
  {
   "cell_type": "code",
   "execution_count": 80,
   "id": "b052c852-da8a-4e57-82fa-12127fe14bdf",
   "metadata": {
    "collapsed": true,
    "execution": {
     "iopub.execute_input": "2022-05-20T19:13:09.794981Z",
     "iopub.status.busy": "2022-05-20T19:13:09.794427Z",
     "iopub.status.idle": "2022-05-20T19:13:09.799149Z",
     "shell.execute_reply": "2022-05-20T19:13:09.798579Z",
     "shell.execute_reply.started": "2022-05-20T19:13:09.794946Z"
    },
    "jupyter": {
     "outputs_hidden": true
    },
    "tags": []
   },
   "outputs": [
    {
     "name": "stdout",
     "output_type": "stream",
     "text": [
      "['positive', 'positive', 'positive', 'negative', 'positive', 'positive', 'positive', 'negative', 'negative', 'positive', 'negative', 'positive', 'negative', 'positive', 'negative', 'negative', 'negative', 'positive', 'negative', 'positive', 'negative', 'positive', 'negative', 'negative', 'negative', 'negative', 'negative', 'positive', 'negative', 'negative', 'negative', 'negative', 'negative', 'positive', 'negative', 'negative', 'positive', 'negative', 'negative', 'positive', 'positive', 'negative', 'negative', 'negative', 'positive', 'positive', 'negative', 'negative', 'negative', 'negative', 'negative', 'negative', 'positive', 'negative', 'negative', 'positive', 'negative', 'negative', 'negative', 'negative', 'positive', 'negative', 'positive', 'positive', 'negative', 'positive', 'positive', 'negative', 'positive', 'positive', 'negative', 'negative', 'negative', 'negative', 'negative', 'negative', 'negative', 'negative', 'negative', 'positive', 'negative', 'positive', 'negative', 'positive', 'negative', 'negative', 'negative', 'positive', 'positive', 'negative', 'negative', 'positive', 'positive', 'negative', 'positive', 'positive', 'negative', 'negative', 'negative', 'positive', 'positive', 'positive', 'positive', 'negative', 'negative', 'negative', 'positive', 'positive', 'negative', 'negative', 'positive', 'negative', 'negative', 'positive', 'positive', 'positive', 'negative', 'negative', 'negative', 'negative', 'positive', 'negative', 'positive', 'negative', 'negative', 'positive', 'negative', 'positive', 'positive', 'positive', 'negative', 'negative', 'positive', 'positive', 'negative', 'positive', 'negative', 'positive', 'positive', 'negative', 'positive', 'positive', 'negative', 'negative', 'positive', 'negative', 'positive', 'negative', 'negative', 'negative', 'negative', 'negative', 'positive', 'negative', 'negative', 'positive', 'positive', 'negative', 'positive', 'negative', 'negative', 'negative', 'negative', 'negative', 'positive', 'positive', 'positive', 'positive', 'negative', 'negative', 'negative', 'negative', 'negative', 'positive', 'positive', 'positive', 'positive', 'negative', 'positive', 'negative', 'negative', 'positive', 'positive', 'negative', 'negative', 'positive', 'negative', 'positive', 'positive', 'negative', 'negative', 'negative', 'positive', 'positive', 'negative', 'positive', 'negative', 'positive', 'positive', 'positive', 'negative', 'positive', 'positive', 'positive', 'positive', 'positive', 'positive', 'negative', 'positive', 'negative', 'negative', 'positive', 'negative', 'positive', 'negative', 'positive', 'negative', 'negative', 'positive', 'negative', 'negative', 'negative', 'negative', 'negative', 'negative', 'negative', 'positive', 'negative', 'negative', 'negative', 'positive', 'negative', 'negative', 'positive', 'negative', 'positive', 'positive', 'positive', 'negative', 'positive', 'positive', 'negative', 'positive', 'positive', 'negative', 'negative', 'negative', 'positive', 'negative', 'positive', 'positive', 'positive', 'positive', 'positive', 'positive', 'positive', 'positive', 'positive', 'negative', 'positive', 'positive', 'negative', 'negative', 'positive', 'positive', 'positive', 'positive', 'positive', 'negative', 'negative', 'negative', 'negative', 'negative', 'negative', 'negative', 'positive', 'positive', 'positive', 'negative', 'positive', 'positive', 'negative', 'positive', 'positive', 'negative', 'positive', 'positive', 'negative', 'positive', 'positive', 'positive', 'negative', 'positive', 'positive', 'negative', 'negative', 'positive', 'positive', 'positive', 'negative', 'negative', 'negative', 'positive', 'negative', 'negative', 'positive', 'negative', 'negative', 'negative', 'negative', 'positive', 'negative', 'negative', 'negative', 'positive', 'negative', 'positive', 'negative', 'negative', 'positive', 'positive', 'positive', 'positive', 'negative', 'negative', 'positive', 'negative', 'negative', 'negative', 'positive', 'positive', 'negative', 'negative', 'negative', 'negative', 'positive', 'negative', 'positive', 'positive', 'negative', 'positive', 'positive', 'positive', 'negative', 'negative', 'positive', 'negative', 'positive', 'negative', 'positive', 'positive', 'positive', 'positive', 'negative', 'positive', 'positive', 'negative', 'negative', 'negative', 'negative', 'negative', 'positive', 'negative', 'negative', 'negative', 'positive', 'positive', 'positive', 'positive', 'negative', 'positive', 'negative', 'negative', 'negative', 'negative', 'positive', 'positive', 'positive', 'positive', 'negative', 'positive', 'negative', 'negative', 'negative', 'negative', 'positive', 'negative', 'negative', 'positive', 'positive', 'negative', 'positive', 'positive', 'positive', 'negative', 'negative', 'positive', 'positive', 'negative', 'negative', 'positive', 'positive', 'positive', 'negative', 'positive', 'negative', 'negative', 'negative', 'positive', 'negative', 'positive', 'negative', 'negative', 'negative', 'positive', 'negative', 'positive', 'positive', 'negative', 'negative', 'positive', 'positive', 'negative', 'negative', 'positive', 'positive', 'positive', 'negative', 'negative', 'negative', 'negative']\n"
     ]
    }
   ],
   "source": [
    "#we are left with the prediction in lower case\n",
    "print(predicted_labels)"
   ]
  },
  {
   "cell_type": "code",
   "execution_count": 15,
   "id": "7dbf3d66-69ae-4a61-bc14-9244e5126729",
   "metadata": {
    "execution": {
     "iopub.execute_input": "2022-05-20T19:33:58.366343Z",
     "iopub.status.busy": "2022-05-20T19:33:58.366187Z",
     "iopub.status.idle": "2022-05-20T19:33:58.412345Z",
     "shell.execute_reply": "2022-05-20T19:33:58.411936Z",
     "shell.execute_reply.started": "2022-05-20T19:33:58.366316Z"
    },
    "tags": []
   },
   "outputs": [],
   "source": [
    "# keep only the scored labels in list in our data\n",
    "scores_keep = []\n",
    "for idx, row in data.iterrows():\n",
    "    # if row index is in the bad_id list (too long)\n",
    "    if idx in bad_ids:\n",
    "        # do nothing\n",
    "        pass\n",
    "    else:\n",
    "        # if its not in the bad_id list then keep the score\n",
    "        scores_keep.append(row)"
   ]
  },
  {
   "cell_type": "code",
   "execution_count": 16,
   "id": "f6e32924-7fe9-400f-93c1-91b30e25dc47",
   "metadata": {
    "execution": {
     "iopub.execute_input": "2022-05-20T19:33:58.751227Z",
     "iopub.status.busy": "2022-05-20T19:33:58.751095Z",
     "iopub.status.idle": "2022-05-20T19:33:58.761618Z",
     "shell.execute_reply": "2022-05-20T19:33:58.761085Z",
     "shell.execute_reply.started": "2022-05-20T19:33:58.751212Z"
    },
    "tags": []
   },
   "outputs": [],
   "source": [
    "# keep only the data we want into a df\n",
    "keep_data = pd.DataFrame(scores_keep)"
   ]
  },
  {
   "cell_type": "code",
   "execution_count": 17,
   "id": "dd1b01b9-a3c8-46ea-956b-67812e75aa9a",
   "metadata": {
    "execution": {
     "iopub.execute_input": "2022-05-20T19:33:58.762406Z",
     "iopub.status.busy": "2022-05-20T19:33:58.762270Z",
     "iopub.status.idle": "2022-05-20T19:33:58.789053Z",
     "shell.execute_reply": "2022-05-20T19:33:58.787341Z",
     "shell.execute_reply.started": "2022-05-20T19:33:58.762391Z"
    },
    "tags": []
   },
   "outputs": [
    {
     "name": "stdout",
     "output_type": "stream",
     "text": [
      "                                                review  sentiment\n",
      "0    One of the other reviewers has mentioned that ...          1\n",
      "1    A wonderful little production. <br /><br />The...          1\n",
      "2    I thought this was a wonderful way to spend ti...          1\n",
      "3    Basically there's a family where a little boy ...          0\n",
      "4    Petter Mattei's \"Love in the Time of Money\" is...          1\n",
      "..                                                 ...        ...\n",
      "494  Despite some reviews being distinctly Luke-war...          1\n",
      "495  \"American Nightmare\" is officially tied, in my...          0\n",
      "496  First off, I have to say that I loved the book...          0\n",
      "497  This movie was extremely boring. I only laughe...          0\n",
      "498  I was disgusted by this movie. No it wasn't be...          0\n",
      "\n",
      "[431 rows x 2 columns]\n"
     ]
    }
   ],
   "source": [
    "print(keep_data)"
   ]
  },
  {
   "cell_type": "code",
   "execution_count": 18,
   "id": "e06dc26d-1f4c-4cf5-84c3-da2dd556b8f0",
   "metadata": {
    "execution": {
     "iopub.execute_input": "2022-05-20T19:33:58.791718Z",
     "iopub.status.busy": "2022-05-20T19:33:58.791265Z",
     "iopub.status.idle": "2022-05-20T19:33:58.801293Z",
     "shell.execute_reply": "2022-05-20T19:33:58.800538Z",
     "shell.execute_reply.started": "2022-05-20T19:33:58.791679Z"
    },
    "tags": []
   },
   "outputs": [],
   "source": [
    "#classification report to get an overview of how well the model is performing\n",
    "scores_keep = [\"positive\" if item == 1 else \"negative\" for item in keep_data[\"sentiment\"]]"
   ]
  },
  {
   "cell_type": "code",
   "execution_count": 19,
   "id": "59b313bf-9292-4ede-88f2-2ad968d6e8c4",
   "metadata": {
    "execution": {
     "iopub.execute_input": "2022-05-20T19:33:58.803099Z",
     "iopub.status.busy": "2022-05-20T19:33:58.802897Z",
     "iopub.status.idle": "2022-05-20T19:33:58.948648Z",
     "shell.execute_reply": "2022-05-20T19:33:58.947178Z",
     "shell.execute_reply.started": "2022-05-20T19:33:58.803082Z"
    },
    "tags": []
   },
   "outputs": [
    {
     "name": "stdout",
     "output_type": "stream",
     "text": [
      "              precision    recall  f1-score   support\n",
      "\n",
      "    negative       0.98      0.97      0.97       233\n",
      "    positive       0.96      0.97      0.97       198\n",
      "\n",
      "    accuracy                           0.97       431\n",
      "   macro avg       0.97      0.97      0.97       431\n",
      "weighted avg       0.97      0.97      0.97       431\n",
      "\n"
     ]
    }
   ],
   "source": [
    "labels = [\"negative\", \"positive\"]\n",
    "print(classification_report(scores_keep, predicted_labels))"
   ]
  },
  {
   "cell_type": "code",
   "execution_count": 86,
   "id": "1b8098f3-4889-4963-8e29-3294cd9783e2",
   "metadata": {
    "execution": {
     "iopub.execute_input": "2022-05-20T19:13:27.612615Z",
     "iopub.status.busy": "2022-05-20T19:13:27.612279Z",
     "iopub.status.idle": "2022-05-20T19:13:27.742162Z",
     "shell.execute_reply": "2022-05-20T19:13:27.741120Z",
     "shell.execute_reply.started": "2022-05-20T19:13:27.612593Z"
    },
    "tags": []
   },
   "outputs": [
    {
     "name": "stdout",
     "output_type": "stream",
     "text": [
      "Done! Report has been generated and saved in the output folder as project_classification.txt\n"
     ]
    }
   ],
   "source": [
    "#save the model in output folder\n",
    "\n",
    "report = classification_report(scores_keep, predicted_labels, target_names = labels)\n",
    "\n",
    "f = open(\"../../cds-lang/project/output/project_classification.txt\",'w') #saving in this folder as project_classification.txt\n",
    "print(report, file=f)\n",
    "\n",
    "print(\"Done! Report has been generated and saved in the output folder as project_classification.txt\")"
   ]
  },
  {
   "cell_type": "code",
   "execution_count": 20,
   "id": "0398138b-883a-4f53-b707-455208ec5ff6",
   "metadata": {
    "execution": {
     "iopub.execute_input": "2022-05-20T19:34:49.962745Z",
     "iopub.status.busy": "2022-05-20T19:34:49.962220Z",
     "iopub.status.idle": "2022-05-20T19:34:49.976525Z",
     "shell.execute_reply": "2022-05-20T19:34:49.974659Z",
     "shell.execute_reply.started": "2022-05-20T19:34:49.962695Z"
    },
    "tags": []
   },
   "outputs": [],
   "source": [
    "# Is the model better at predicting negative or positive sentiments?\n",
    "cm = pd.DataFrame(confusion_matrix(scores_keep, predicted_labels), \n",
    "             index=labels, columns=labels)"
   ]
  },
  {
   "cell_type": "code",
   "execution_count": 21,
   "id": "db7215b0-6776-41b9-bf14-0b097c3ea0f4",
   "metadata": {
    "execution": {
     "iopub.execute_input": "2022-05-20T19:34:55.383386Z",
     "iopub.status.busy": "2022-05-20T19:34:55.382610Z",
     "iopub.status.idle": "2022-05-20T19:34:55.394854Z",
     "shell.execute_reply": "2022-05-20T19:34:55.393297Z",
     "shell.execute_reply.started": "2022-05-20T19:34:55.383301Z"
    },
    "tags": []
   },
   "outputs": [
    {
     "name": "stdout",
     "output_type": "stream",
     "text": [
      "          negative  positive\n",
      "negative       226         7\n",
      "positive         5       193\n"
     ]
    }
   ],
   "source": [
    "print(cm)"
   ]
  },
  {
   "cell_type": "code",
   "execution_count": 22,
   "id": "2ec0a30f-d385-4bde-914d-82b2803d38ac",
   "metadata": {
    "execution": {
     "iopub.execute_input": "2022-05-20T19:35:15.398913Z",
     "iopub.status.busy": "2022-05-20T19:35:15.398318Z",
     "iopub.status.idle": "2022-05-20T19:35:15.937737Z",
     "shell.execute_reply": "2022-05-20T19:35:15.936560Z",
     "shell.execute_reply.started": "2022-05-20T19:35:15.398877Z"
    },
    "tags": []
   },
   "outputs": [
    {
     "name": "stdout",
     "output_type": "stream",
     "text": [
      "Done! Confusion matrix has been generated and saved in the output folder as confusion_matrix.csv\n"
     ]
    }
   ],
   "source": [
    "#save the matrix to output folder\n",
    "cm.to_csv(\"../../cds-lang/project/output/confusion_matrix.csv\")\n",
    "\n",
    "print(\"Done! Confusion matrix has been generated and saved in the output folder as confusion_matrix.csv\")"
   ]
  }
 ],
 "metadata": {
  "kernelspec": {
   "display_name": "Python 3 ",
   "language": "python",
   "name": "python3"
  },
  "language_info": {
   "codemirror_mode": {
    "name": "ipython",
    "version": 3
   },
   "file_extension": ".py",
   "mimetype": "text/x-python",
   "name": "python",
   "nbconvert_exporter": "python",
   "pygments_lexer": "ipython3",
   "version": "3.9.6"
  }
 },
 "nbformat": 4,
 "nbformat_minor": 5
}
