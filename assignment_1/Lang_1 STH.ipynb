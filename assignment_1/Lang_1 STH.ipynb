{
 "cells": [
  {
   "cell_type": "markdown",
   "id": "62ee8b1c-ec09-4305-b2f4-bc192bc31f9e",
   "metadata": {},
   "source": [
    "## Assignment 1 - Collocation tool"
   ]
  },
  {
   "cell_type": "markdown",
   "id": "ce51d878-9ad3-4873-a700-bd150dc039f0",
   "metadata": {},
   "source": [
    "Tasks:\n",
    "\n",
    "-Take a user-defined search term and a user-defined window size.\n",
    "\n",
    "-Take one specific text which the user can define.\n",
    "\n",
    "-Find all the context words which appear ± the window size from the search term in that text.\n",
    "\n",
    "-Calculate the mutual information score for each context word.\n",
    "\n",
    "-Save the results as a CSV file with (at least) the following columns: the collocate term; how often it appears as a collocate; how often it appears in the text; the mutual information score"
   ]
  },
  {
   "cell_type": "code",
   "execution_count": null,
   "id": "cd8c33db-b943-4c8d-beff-038807111f44",
   "metadata": {
    "tags": []
   },
   "outputs": [],
   "source": [
    "# install spaCy from + and chose terminal:\n",
    "#pip install spacy \n",
    "#python -m spacy download en_core_web_sm"
   ]
  },
  {
   "cell_type": "code",
   "execution_count": 2,
   "id": "8368a9f8-bbdc-4462-b24e-4457ef96474c",
   "metadata": {
    "execution": {
     "iopub.execute_input": "2022-03-01T17:04:15.140361Z",
     "iopub.status.busy": "2022-03-01T17:04:15.139838Z",
     "iopub.status.idle": "2022-03-01T17:04:16.018910Z",
     "shell.execute_reply": "2022-03-01T17:04:16.018235Z",
     "shell.execute_reply.started": "2022-03-01T17:04:15.140297Z"
    },
    "tags": []
   },
   "outputs": [],
   "source": [
    "# import package and initialize it\n",
    "import spacy\n",
    "\n",
    "# creating NLP pipeline\n",
    "nlp = spacy.load(\"en_core_web_sm\")"
   ]
  },
  {
   "cell_type": "code",
   "execution_count": 3,
   "id": "305f981f-cd68-4460-b654-d13627a1c5c0",
   "metadata": {
    "execution": {
     "iopub.execute_input": "2022-03-01T17:04:19.180257Z",
     "iopub.status.busy": "2022-03-01T17:04:19.179754Z",
     "iopub.status.idle": "2022-03-01T17:04:19.189038Z",
     "shell.execute_reply": "2022-03-01T17:04:19.188185Z",
     "shell.execute_reply.started": "2022-03-01T17:04:19.180208Z"
    },
    "tags": []
   },
   "outputs": [],
   "source": [
    "# create spacy doc from one of the novels in the shared data folder\n",
    "# but first import and open the novel\n",
    "\n",
    "import os\n",
    "filepath = os.path.join(\"..\", \"..\", \"CDS-LANG\", \"100_english_novels\", \"corpus\", \"Bennet_Helen_1910.txt\")\n",
    "\n",
    "file_object = open(filepath, \"r\")\n",
    "doc = file_object.read()"
   ]
  },
  {
   "cell_type": "code",
   "execution_count": 4,
   "id": "13114e52-f188-44c7-9a9b-c73e52519cb5",
   "metadata": {
    "execution": {
     "iopub.execute_input": "2022-03-01T17:04:21.266124Z",
     "iopub.status.busy": "2022-03-01T17:04:21.265623Z",
     "iopub.status.idle": "2022-03-01T17:04:35.989989Z",
     "shell.execute_reply": "2022-03-01T17:04:35.989061Z",
     "shell.execute_reply.started": "2022-03-01T17:04:21.266077Z"
    },
    "tags": []
   },
   "outputs": [],
   "source": [
    "# making whole novel lower case text\n",
    "doc = doc.lower()\n",
    "# tokenizes\n",
    "doc = nlp(doc)"
   ]
  },
  {
   "cell_type": "code",
   "execution_count": 11,
   "id": "83d479b3-5028-4b8a-915d-e3b0622ce7a2",
   "metadata": {
    "execution": {
     "iopub.execute_input": "2022-02-26T11:35:12.054504Z",
     "iopub.status.busy": "2022-02-26T11:35:12.054021Z",
     "iopub.status.idle": "2022-02-26T11:35:12.060223Z",
     "shell.execute_reply": "2022-02-26T11:35:12.059008Z",
     "shell.execute_reply.started": "2022-02-26T11:35:12.054458Z"
    },
    "tags": []
   },
   "outputs": [],
   "source": [
    "# checking if the text is working\n",
    "#print(doc)"
   ]
  },
  {
   "cell_type": "code",
   "execution_count": 6,
   "id": "48e7c16a-0325-4f1b-ba7d-f9e12b00fbb1",
   "metadata": {
    "execution": {
     "iopub.execute_input": "2022-03-01T17:05:01.728812Z",
     "iopub.status.busy": "2022-03-01T17:05:01.728275Z",
     "iopub.status.idle": "2022-03-01T17:05:04.380550Z",
     "shell.execute_reply": "2022-03-01T17:05:04.379031Z",
     "shell.execute_reply.started": "2022-03-01T17:05:01.728763Z"
    },
    "tags": []
   },
   "outputs": [
    {
     "name": "stdin",
     "output_type": "stream",
     "text": [
      "what is your search term? park\n"
     ]
    }
   ],
   "source": [
    "# Defining a search term\n",
    "# User-defined search term is currently: park\n",
    "search_term = input(\"what is your search term?\") #insert search term"
   ]
  },
  {
   "cell_type": "code",
   "execution_count": 7,
   "id": "245d06fb-22d7-47e1-a441-3e2ebfe5258f",
   "metadata": {
    "execution": {
     "iopub.execute_input": "2022-03-01T17:05:10.820421Z",
     "iopub.status.busy": "2022-03-01T17:05:10.819894Z",
     "iopub.status.idle": "2022-03-01T17:05:10.861998Z",
     "shell.execute_reply": "2022-03-01T17:05:10.861385Z",
     "shell.execute_reply.started": "2022-03-01T17:05:10.820372Z"
    },
    "tags": []
   },
   "outputs": [],
   "source": [
    "# counting how many instances of search_term park\n",
    "counter = 0    \n",
    "for token in doc:\n",
    "    if token.text == search_term:\n",
    "        counter += 1"
   ]
  },
  {
   "cell_type": "code",
   "execution_count": 8,
   "id": "45637164-2385-464d-a643-a4b539b4467e",
   "metadata": {
    "execution": {
     "iopub.execute_input": "2022-03-01T17:05:12.958405Z",
     "iopub.status.busy": "2022-03-01T17:05:12.957873Z",
     "iopub.status.idle": "2022-03-01T17:05:12.966725Z",
     "shell.execute_reply": "2022-03-01T17:05:12.965375Z",
     "shell.execute_reply.started": "2022-03-01T17:05:12.958357Z"
    },
    "tags": []
   },
   "outputs": [
    {
     "name": "stdout",
     "output_type": "stream",
     "text": [
      "There are 23 instances of park in the text\n"
     ]
    }
   ],
   "source": [
    "# printing in a sentence how many times search_term (park) is in the text\n",
    "print(\"There are \" + str(counter) + \" instances of \" + search_term + \" in the text\")"
   ]
  },
  {
   "cell_type": "code",
   "execution_count": 9,
   "id": "ac277a31-5bf4-4de8-bd4d-9319f02a1031",
   "metadata": {
    "execution": {
     "iopub.execute_input": "2022-03-01T17:05:17.126031Z",
     "iopub.status.busy": "2022-03-01T17:05:17.125519Z",
     "iopub.status.idle": "2022-03-01T17:05:17.167848Z",
     "shell.execute_reply": "2022-03-01T17:05:17.167178Z",
     "shell.execute_reply.started": "2022-03-01T17:05:17.125983Z"
    },
    "tags": []
   },
   "outputs": [
    {
     "name": "stdout",
     "output_type": "stream",
     "text": [
      "[114, 115, 116, 117, 118, 120, 121, 122, 123, 338, 339, 340, 341, 342, 344, 345, 346, 347, 356, 357, 358, 359, 360, 362, 363, 364, 365, 365, 366, 367, 368, 369, 371, 372, 373, 374, 394, 395, 396, 397, 398, 400, 401, 402, 403, 483, 484, 485, 486, 487, 489, 490, 491, 492, 544, 545, 546, 547, 548, 550, 551, 552, 553, 556, 557, 558, 559, 560, 562, 563, 564, 565, 564, 565, 566, 567, 568, 570, 571, 572, 573, 1656, 1657, 1658, 1659, 1660, 1662, 1663, 1664, 1665, 2284, 2285, 2286, 2287, 2288, 2290, 2291, 2292, 2293, 3292, 3293, 3294, 3295, 3296, 3298, 3299, 3300, 3301, 3381, 3382, 3383, 3384, 3385, 3387, 3388, 3389, 3390, 7791, 7792, 7793, 7794, 7795, 7797, 7798, 7799, 7800, 7874, 7875, 7876, 7877, 7878, 7880, 7881, 7882, 7883, 16119, 16120, 16121, 16122, 16123, 16125, 16126, 16127, 16128, 42185, 42186, 42187, 42188, 42189, 42191, 42192, 42193, 42194, 42192, 42193, 42194, 42195, 42196, 42198, 42199, 42200, 42201, 42286, 42287, 42288, 42289, 42290, 42292, 42293, 42294, 42295, 51899, 51900, 51901, 51902, 51903, 51905, 51906, 51907, 51908, 55395, 55396, 55397, 55398, 55399, 55401, 55402, 55403, 55404, 63061, 63062, 63063, 63064, 63065, 63067, 63068, 63069, 63070, 68236, 68237, 68238, 68239, 68240, 68242, 68243, 68244, 68245]\n"
     ]
    }
   ],
   "source": [
    "#getting index of context words\n",
    "\n",
    "index = []\n",
    "\n",
    "for token in doc:\n",
    "    if token.text == search_term:\n",
    "        before = token.i - 5\n",
    "        for i in range(before, before + 10):\n",
    "            if i != token.i:\n",
    "                index.append(i)\n",
    "print(index)"
   ]
  },
  {
   "cell_type": "code",
   "execution_count": 10,
   "id": "79ad71e3-70aa-4cd1-bdff-46b062600667",
   "metadata": {
    "execution": {
     "iopub.execute_input": "2022-03-01T17:05:27.482363Z",
     "iopub.status.busy": "2022-03-01T17:05:27.481830Z",
     "iopub.status.idle": "2022-03-01T17:05:27.526699Z",
     "shell.execute_reply": "2022-03-01T17:05:27.526057Z",
     "shell.execute_reply.started": "2022-03-01T17:05:27.482297Z"
    },
    "tags": []
   },
   "outputs": [
    {
     "name": "stdout",
     "output_type": "stream",
     "text": [
      "[tears, ., \n",
      "\n",
      ", the, town, is, an, idyll, in, parks, when, bursley, mentions, its,  , especially, turnhill, ,, but, let, them, show, a, whose, natural, situation, equals, equals, that, of, bursley, 's, ., you, may, tell, that, in, spite, of, the, 's, vaunted, situation, nothing, before, the, days, of, the, lovers, had, no, place, before, the, days, of, the, ., that, is, the, to, any, criticism, of, the, ., \n",
      "\n",
      ", the, highest, the, highest, terrace, of, the, is, a, splendid, expanse, choice, of, benches, in, a, he, will, always, select, not, excite, attention, throughout, the, !, then, she, had, before, the, scene, on, the, terrace, ,, mrs, ., 's, was, now, sharing, the, bench, with, him, ., i, 'm, teaching, at, the, road, board, school, ., the, eastern, gates, of, the, ., \", what, dost, her, crushing, him, in, the, ,, and, the, peril, there, 's, one, up, at, -, road, ,, above, road, ,, above, th, ', ,, semi, -, detached, in, a, poky, house, in, -, road, -, the, water, ,, which, diversified, the, -, like, splendours, of, and, her, sunshade, in, the, ., \n",
      "\n",
      ", that, is, and, immediately, behind, him, the, ,, with, the, bowling, semi, -, detached, villa, in, -, road, ,, with]\n"
     ]
    }
   ],
   "source": [
    "# getting the context words/the words that match the index\n",
    "\n",
    "words = []\n",
    "\n",
    "for token in doc:\n",
    "    if token.text == search_term:\n",
    "        #now get the index\n",
    "        # get the start of the preceding context\n",
    "        before = token.i -5\n",
    "        # get the end of the following context\n",
    "        after = token.i +5\n",
    "        for i in range(before, after):\n",
    "            if str(doc[i]) != search_term:\n",
    "                words.append(doc[i])\n",
    "print(words)"
   ]
  },
  {
   "cell_type": "code",
   "execution_count": 1,
   "id": "fffaff5c-abd0-4f78-b90b-302c652fc186",
   "metadata": {
    "execution": {
     "iopub.execute_input": "2022-03-01T17:00:34.698689Z",
     "iopub.status.busy": "2022-03-01T17:00:34.698144Z",
     "iopub.status.idle": "2022-03-01T17:00:34.705069Z",
     "shell.execute_reply": "2022-03-01T17:00:34.703763Z",
     "shell.execute_reply.started": "2022-03-01T17:00:34.698637Z"
    },
    "tags": []
   },
   "outputs": [],
   "source": [
    "# calculating mutual information score for one of the context words: \n",
    "# formula from https://www.english-corpora.org/mutualInformation.asp"
   ]
  },
  {
   "cell_type": "code",
   "execution_count": 11,
   "id": "565872aa-6072-445e-80f5-33f3bea7fd69",
   "metadata": {
    "execution": {
     "iopub.execute_input": "2022-03-01T17:05:39.656011Z",
     "iopub.status.busy": "2022-03-01T17:05:39.655529Z",
     "iopub.status.idle": "2022-03-01T17:05:39.696870Z",
     "shell.execute_reply": "2022-03-01T17:05:39.696303Z",
     "shell.execute_reply.started": "2022-03-01T17:05:39.655965Z"
    },
    "tags": []
   },
   "outputs": [
    {
     "name": "stdout",
     "output_type": "stream",
     "text": [
      "The word >park< is mentioned 23 times\n"
     ]
    }
   ],
   "source": [
    "# The formula \n",
    "# MI = log ( (AB * sizeCorpus) / (A * B * span) ) / log (2)\n",
    "# need to find all the variables\n",
    "\n",
    "#A = frequency of node word: \n",
    "counter = 0    \n",
    "for token in doc:\n",
    "    if token.text == search_term:\n",
    "        counter += 1\n",
    "A = counter\n",
    "print(\"The word >\" + search_term + \"< is mentioned \" + str(A) + \" times\")"
   ]
  },
  {
   "cell_type": "code",
   "execution_count": 12,
   "id": "5dd629b1-db2e-4a50-9746-4639cea60a54",
   "metadata": {
    "execution": {
     "iopub.execute_input": "2022-03-01T17:05:51.702076Z",
     "iopub.status.busy": "2022-03-01T17:05:51.701596Z",
     "iopub.status.idle": "2022-03-01T17:05:55.916815Z",
     "shell.execute_reply": "2022-03-01T17:05:55.915981Z",
     "shell.execute_reply.started": "2022-03-01T17:05:51.702030Z"
    },
    "tags": []
   },
   "outputs": [],
   "source": [
    "#B = frequency of collocate\n",
    "\n",
    "B = []\n",
    "for i in range(0, len(words)-1): \n",
    "    B_words = str(words[i]) \n",
    "    counter2 = 0 \n",
    "    for token in doc:\n",
    "        if token.text == B_words:\n",
    "            counter2 += 1\n",
    "    B.append(counter2) #adding to freqency to the list"
   ]
  },
  {
   "cell_type": "code",
   "execution_count": 13,
   "id": "200d0b73-b12d-43c6-b4a2-0c4eea3c3afd",
   "metadata": {
    "execution": {
     "iopub.execute_input": "2022-03-01T17:05:57.686693Z",
     "iopub.status.busy": "2022-03-01T17:05:57.686165Z",
     "iopub.status.idle": "2022-03-01T17:05:57.714393Z",
     "shell.execute_reply": "2022-03-01T17:05:57.713550Z",
     "shell.execute_reply.started": "2022-03-01T17:05:57.686644Z"
    },
    "tags": []
   },
   "outputs": [
    {
     "name": "stdout",
     "output_type": "stream",
     "text": [
      "Number of times the 5th word before the search_term >,< is mentioned 9 within in the 10 words close to >park<\n"
     ]
    }
   ],
   "source": [
    "#AB = frequency of collocate near the node word\n",
    "\n",
    "AB = []\n",
    "\n",
    "for i in range(0, len(words)-1): \n",
    "    B_words = str(words[i])\n",
    "    counter3 = 0 \n",
    "    for token in words:\n",
    "        if token.text == B_words:\n",
    "            counter3 += 1\n",
    "    AB.append(counter3)\n",
    "    \n",
    "print(\"Number of times the 5th word before the search_term >\" + B_words + \"< is mentioned \" + str(counter3) + \" within in the 10 words close to >\" + search_term + \"<\")"
   ]
  },
  {
   "cell_type": "code",
   "execution_count": 17,
   "id": "233679e6-5a23-4c2c-90dc-68b046ae5779",
   "metadata": {
    "execution": {
     "iopub.execute_input": "2022-03-01T17:07:32.556627Z",
     "iopub.status.busy": "2022-03-01T17:07:32.556092Z",
     "iopub.status.idle": "2022-03-01T17:07:32.564535Z",
     "shell.execute_reply": "2022-03-01T17:07:32.563363Z",
     "shell.execute_reply.started": "2022-03-01T17:07:32.556576Z"
    },
    "tags": []
   },
   "outputs": [
    {
     "name": "stdout",
     "output_type": "stream",
     "text": [
      "68280\n"
     ]
    }
   ],
   "source": [
    "#sizeCorpus= size of corpus\n",
    "sizeCorpus = textLength = len(token.doc)\n",
    "print(textLength)"
   ]
  },
  {
   "cell_type": "code",
   "execution_count": 18,
   "id": "5b3784f5-bf4e-4bcf-925c-7449ce53fd84",
   "metadata": {
    "execution": {
     "iopub.execute_input": "2022-03-01T17:07:34.548450Z",
     "iopub.status.busy": "2022-03-01T17:07:34.547924Z",
     "iopub.status.idle": "2022-03-01T17:07:34.557639Z",
     "shell.execute_reply": "2022-03-01T17:07:34.556645Z",
     "shell.execute_reply.started": "2022-03-01T17:07:34.548401Z"
    },
    "tags": []
   },
   "outputs": [],
   "source": [
    "#span = span of words\n",
    "span = 10\n",
    "#log (2) is literally the log10 of the number 2: .30103\n",
    "import math\n",
    "math.log(2,10)\n",
    "\n",
    "#MI = 11.37 = log ( (24 * 96,263,399) / (1262 * 115 * 6) ) / .30103\n",
    "\n",
    "MI = []\n",
    "for i in range(0, len(words)-1): \n",
    "    MI1 = math.log((AB[i]*sizeCorpus)/(A*B[i]*span))/math.log(2,10)\n",
    "    MI.append(MI1)"
   ]
  },
  {
   "cell_type": "code",
   "execution_count": 19,
   "id": "df627841-f080-4d61-91d8-0a8f20e33495",
   "metadata": {
    "execution": {
     "iopub.execute_input": "2022-03-01T17:07:49.747173Z",
     "iopub.status.busy": "2022-03-01T17:07:49.746670Z",
     "iopub.status.idle": "2022-03-01T17:07:49.754978Z",
     "shell.execute_reply": "2022-03-01T17:07:49.753813Z",
     "shell.execute_reply.started": "2022-03-01T17:07:49.747126Z"
    },
    "tags": []
   },
   "outputs": [
    {
     "name": "stdout",
     "output_type": "stream",
     "text": [
      "[13.566272512290121, -1.0833174517799782, -1.906480047911219, 3.506168537887768, 8.961102326302028, 5.202665865524856, 1.5890679243478203, 14.307539344593733, 3.339837554002006, 18.912709530581825, 2.8206683511844712, 8.879075242801902, 18.912709530581825, 5.661591356242481, -1.6168614180584417, 12.96061341047268, 12.004954251599687, -1.1083482447672297, -0.33126512917428197, 7.726794909152695, 4.799513825022772, 12.96061341047268, -0.4261124943528378, 10.145950843314477, 13.566272512290121, 14.307539344593733, 21.21529462357587, 21.21529462357587, 1.5220462543286672, 2.076496465704999, 8.879075242801902, 3.121624723164603, -1.0833174517799782, -2.320779508588394, 6.576490149807856, 6.052858131490541, 1.5220462543286672, 3.339837554002006, 15.263198503466725, 2.076496465704999, 3.506168537887768, 3.121624723164603, 18.912709530581825, 14.307539344593733, 5.311591299186928, 9.91676148517502, 3.506168537887768, 11.10161000218747, 2.076496465704999, 3.506168537887768, 16.61012443758778, -0.38152218599325527, 1.5353428488452, 10.145950843314477, 9.91676148517502, 3.506168537887768, 11.10161000218747, 2.076496465704999, 3.506168537887768, -1.0833174517799782, 1.5220462543286672, 5.202665865524856, 3.506168537887768, -4.999138726349936, 5.851467497036605, 18.912709530581825, 2.076496465704999, 3.506168537887768, -1.0833174517799782, -1.906480047911219, 3.506168537887768, 16.61012443758778, 3.506168537887768, 16.61012443758778, 14.75112102930257, 2.076496465704999, 3.506168537887768, 5.202665865524856, -0.4261124943528378, 13.566272512290121, 18.912709530581825, 15.263198503466725, 2.076496465704999, 18.912709530581825, 3.339837554002006, -0.4261124943528378, -4.796816231187224, 5.424209816158649, 6.917499868236943, 18.912709530581825, -0.9571183849429702, 18.912709530581825, 13.566272512290121, 15.263198503466725, 3.506168537887768, -1.261507728748446, 2.2237396830252214, -3.242883552914666, -0.38152218599325527, 9.91676148517502, 3.506168537887768, 11.613687476351625, -0.5752755255041714, 3.506168537887768, 14.75112102930257, -1.1083482447672297, 1.5176258570098884, -1.0833174517799782, 3.121624723164603, -3.7392658987604794, 4.397717950326372, 18.912709530581825, 3.506168537887768, 11.613687476351625, 2.601375220045538, 3.121624723164603, -1.0833174517799782, -3.3953112084231902, 4.273905056813811, 14.307539344593733, 1.5710628499452375, 3.506168537887768, 13.435984123364715, 13.566272512290121, 9.500978524151703, -1.0833174517799782, 3.506168537887768, 18.912709530581825, 15.263198503466725, 2.076496465704999, 3.506168537887768, -1.0833174517799782, -7.512309401342863, 1.1817918260908722, 13.566272512290121, 0.29063815217551964, 16.61012443758778, 3.121624723164603, 3.339837554002006, 3.506168537887768, -1.1083482447672297, -1.962732291120701, 3.506168537887768, 16.61012443758778, 1.9111020956549218, 3.121624723164603, 1.9111020956549218, 3.681777249041176, 1.5710628499452375, 3.3240382762085745, 13.435984123364715, -1.1083482447672297, 13.249658948269365, 13.435984123364715, -1.1083482447672297, 13.249658948269365, 7.198393431157657, 1.832472907777161, -1.1083482447672297, 15.868857605284166, 3.3240382762085745, 15.868857605284166, 3.339837554002006, -0.4261124943528378, 15.263198503466725, 4.66011177305625, 3.339837554002006, 3.3240382762085745, 13.435984123364715, 3.3240382762085745, 3.506168537887768, 9.500978524151703, -1.1083482447672297, 1.8912696302112857, 18.912709530581825, 3.506168537887768, 3.3240382762085745, 3.121624723164603, 18.912709530581825, 2.076496465704999, -1.962732291120701, 0.29063815217551964, 13.566272512290121, 3.339837554002006, 3.506168537887768, -1.0833174517799782, -1.906480047911219, 1.5220462543286672, 5.202665865524856, -1.962732291120701, 14.307539344593733, 8.961102326302028, 3.121624723164603, 3.506168537887768, -1.1083482447672297, 2.601375220045538, 3.506168537887768, 9.91676148517502, 15.868857605284166, 3.3240382762085745, 15.868857605284166, 18.912709530581825, 3.339837554002006, 3.3240382762085745, 13.435984123364715, -1.1083482447672297]\n"
     ]
    }
   ],
   "source": [
    "print(MI)"
   ]
  },
  {
   "cell_type": "code",
   "execution_count": 20,
   "id": "0390da78-b372-40fa-aa7c-cb3d4ec7b53d",
   "metadata": {
    "execution": {
     "iopub.execute_input": "2022-03-01T17:07:58.284252Z",
     "iopub.status.busy": "2022-03-01T17:07:58.283745Z",
     "iopub.status.idle": "2022-03-01T17:07:58.572850Z",
     "shell.execute_reply": "2022-03-01T17:07:58.572249Z",
     "shell.execute_reply.started": "2022-03-01T17:07:58.284202Z"
    },
    "tags": []
   },
   "outputs": [
    {
     "name": "stdout",
     "output_type": "stream",
     "text": [
      "     words     B  AB         MI\n",
      "0    tears     5   1  13.566273\n",
      "1        .  3702   9  -1.083317\n",
      "2     \\n\\n  1581   3  -1.906480\n",
      "3      the  2583  25   3.506169\n",
      "4     town    20   1   8.961102\n",
      "..     ...   ...  ..        ...\n",
      "201  villa     1   1  18.912710\n",
      "202     in   869   8   3.339838\n",
      "203      -   764   7   3.324038\n",
      "204   road    26   5  13.435984\n",
      "205      ,  3730   9  -1.108348\n",
      "\n",
      "[206 rows x 4 columns]\n"
     ]
    }
   ],
   "source": [
    "#Combine context words to the search term and their scores\n",
    "# tutorial from http://www.pythonpandas.com/create-pandas-dataframe-from-lists-using-zip/\n",
    "\n",
    "import pandas as pd\n",
    "list_context=list(zip(words, B, AB, MI))\n",
    "# Converting lists of tuples into  \n",
    "# pandas Dataframe.  \n",
    "dframe = pd.DataFrame(list_context, columns=['words', 'B', 'AB', 'MI'])  \n",
    "# Print data.  \n",
    "print(dframe)  "
   ]
  },
  {
   "cell_type": "code",
   "execution_count": 21,
   "id": "01d93da1-6d03-4935-b772-0a9ff4c98450",
   "metadata": {
    "execution": {
     "iopub.execute_input": "2022-03-01T17:08:08.714097Z",
     "iopub.status.busy": "2022-03-01T17:08:08.713586Z",
     "iopub.status.idle": "2022-03-01T17:08:08.729579Z",
     "shell.execute_reply": "2022-03-01T17:08:08.728540Z",
     "shell.execute_reply.started": "2022-03-01T17:08:08.714046Z"
    },
    "tags": []
   },
   "outputs": [],
   "source": [
    "#Creating csv file in current directory\n",
    "# tutorial from https://www.pythontutorial.net/python-basics/python-write-csv-file/\n",
    "\n",
    "dframe.to_csv(\"Lang-assignment.csv\", encoding='utf-8')"
   ]
  }
 ],
 "metadata": {
  "kernelspec": {
   "display_name": "Python 3 ",
   "language": "python",
   "name": "python3"
  },
  "language_info": {
   "codemirror_mode": {
    "name": "ipython",
    "version": 3
   },
   "file_extension": ".py",
   "mimetype": "text/x-python",
   "name": "python",
   "nbconvert_exporter": "python",
   "pygments_lexer": "ipython3",
   "version": "3.9.6"
  }
 },
 "nbformat": 4,
 "nbformat_minor": 5
}
